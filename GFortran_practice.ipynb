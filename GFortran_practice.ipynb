{
 "cells": [
  {
   "cell_type": "code",
   "execution_count": 2,
   "metadata": {},
   "outputs": [
    {
     "name": "stdout",
     "output_type": "stream",
     "text": [
      "           4           8          10          16\n"
     ]
    }
   ],
   "source": [
    "program test_kinds\n",
    "    \n",
    "    use iso_fortran_env\n",
    "    implicit none\n",
    "    \n",
    "    print *, real_kinds\n",
    "    \n",
    "end program test_kinds"
   ]
  },
  {
   "cell_type": "code",
   "execution_count": 20,
   "metadata": {},
   "outputs": [
    {
     "name": "stdout",
     "output_type": "stream",
     "text": [
      " Pendulum Period Calculation Program\n",
      "\n",
      "Enter the Length and Angle values: The period is:     1.04 seconds.\n"
     ]
    }
   ],
   "source": [
    "program period\n",
    "\n",
    "    ! Program to calculate the period of a pendulum\n",
    "\n",
    "    ! Declare variables\n",
    "    !   real constants -> gravity, pi\n",
    "    !   reals -> angle, length, alpha\n",
    "\n",
    "    implicit none\n",
    "\n",
    "    real                :: angle, length, pperiod, alpha\n",
    "    real, parameter     :: gravity = 980.0, pi = 3.14159\n",
    "\n",
    "    ! display initial header\n",
    "        \n",
    "        write (*,*) \"Pendulum Period Calculation Program\"\n",
    "        write (*,*)\n",
    "\n",
    "    ! prompt for and read the length of the angle values\n",
    "\n",
    "        write (*,'(a)', advance=\"no\") \"Enter the Length and Angle values: \"\n",
    "        length = 25.0\n",
    "        angle = 45.0\n",
    "\n",
    "    ! convert degrees to radians\n",
    "        alpha = angle * pi / 180.0\n",
    "\n",
    "    ! calculate the period\n",
    "        pperiod = 2.0 * pi * sqrt(length / gravity) * ( 1.0 + 1.0/4.0 * sin( alpha / 2.0 )**2)\n",
    "\n",
    "    ! display the results\n",
    "        write (*,'(a, f8.2, a)') \"The period is: \", pperiod, \" seconds.\"\n",
    "\n",
    "end program period"
   ]
  },
  {
   "cell_type": "code",
   "execution_count": 22,
   "metadata": {},
   "outputs": [
    {
     "name": "stdout",
     "output_type": "stream",
     "text": [
      "           1\n",
      "           2\n",
      "           4\n",
      "           8\n",
      "          16\n",
      "          32\n",
      "          64\n",
      "         128\n",
      "         256\n",
      "         512\n",
      "        1024\n",
      "        2048\n",
      "        4096\n",
      "        8192\n"
     ]
    }
   ],
   "source": [
    "program some_powers_of_2\n",
    "\n",
    "    implicit none\n",
    "\n",
    "    integer :: power_of_2\n",
    "    \n",
    "    power_of_2 = 1\n",
    "    \n",
    "    print_power: do\n",
    "\n",
    "        print *, power_of_2\n",
    "        \n",
    "        power_of_2 = 2 * power_of_2\n",
    "        \n",
    "        if (power_of_2 >= 10000) exit print_power\n",
    "        \n",
    "    end do print_power\n",
    "    \n",
    "end program some_powers_of_2"
   ]
  },
  {
   "cell_type": "code",
   "execution_count": 23,
   "metadata": {},
   "outputs": [
    {
     "name": "stdout",
     "output_type": "stream",
     "text": [
      "   2.20000005    \n",
      "   1.10000002    \n"
     ]
    }
   ],
   "source": [
    "program value_test\n",
    "\n",
    "    implicit none\n",
    "    \n",
    "    real :: x = 1.1\n",
    "    \n",
    "    call s(x)\n",
    "    print *, x ! produces 1.1\n",
    "    \n",
    "contains \n",
    "\n",
    "subroutine s(d)\n",
    "    \n",
    "    real, value :: d\n",
    "    \n",
    "    d = 2 * d\n",
    "    \n",
    "    print *, d ! produces 2.2\n",
    "    \n",
    "end subroutine\n",
    "\n",
    "end program value_test\n",
    "    "
   ]
  },
  {
   "cell_type": "code",
   "execution_count": 14,
   "metadata": {},
   "outputs": [
    {
     "name": "stdout",
     "output_type": "stream",
     "text": [
      "   1.11111116    \n"
     ]
    }
   ],
   "source": [
    "program test\n",
    "\n",
    "implicit none\n",
    "\n",
    "    real :: x, y = 5\n",
    "\n",
    "    real, dimension(1:3) :: resistor_array = [ 10.0, 15.0, 20.0 ]\n",
    "\n",
    "    call voltage_divider(y, resistor_array, x)\n",
    "    \n",
    "    print *, x\n",
    "\n",
    "contains\n",
    "\n",
    "    subroutine voltage_divider(Vin, r_array, Vout) \n",
    "        \n",
    "        real, intent(in) :: Vin\n",
    "        real, dimension(1:3), intent(in) :: r_array\n",
    "        real, intent(out) :: Vout\n",
    "        \n",
    "            Vout = Vin * (r_array(1) / (r_array(1) + r_array(2) + r_array(3)))\n",
    "            \n",
    "    end subroutine voltage_divider\n",
    "\n",
    "end program test"
   ]
  },
  {
   "cell_type": "code",
   "execution_count": 3,
   "metadata": {},
   "outputs": [
    {
     "name": "stdout",
     "output_type": "stream",
     "text": [
      "   2.45295238    \n"
     ]
    }
   ],
   "source": [
    "program test\n",
    "\n",
    "implicit none\n",
    "\n",
    "    real :: Vout_result\n",
    "\n",
    "    real, dimension(1:5) :: input_array = [ 1000.0, 1000.0, 39.2, 0.0000001, 1.25 ]\n",
    "\n",
    "    call voltage_regulator(input_array, Vout_result)\n",
    "    \n",
    "    print *, Vout_result\n",
    "\n",
    "contains\n",
    "\n",
    "    subroutine voltage_regulator(var_array, Vout) \n",
    "        \n",
    "        real, dimension(1:5), intent(in) :: var_array\n",
    "        real, intent(out) :: Vout\n",
    "        real :: Vref, Iadj, R3, R2, R1\n",
    "        \n",
    "            Vref = var_array(5)\n",
    "            Iadj = var_array(4)\n",
    "            R3   = var_array(3)\n",
    "            R2   = var_array(2)\n",
    "            R1   = var_array(1)\n",
    "\n",
    "            Vout = Vref * (1 + (R1 / (R2 + R3))) + (Iadj * (R2 + R3))\n",
    "            \n",
    "    end subroutine voltage_regulator\n",
    "\n",
    "end program test"
   ]
  },
  {
   "cell_type": "code",
   "execution_count": null,
   "metadata": {},
   "outputs": [],
   "source": []
  }
 ],
 "metadata": {
  "kernelspec": {
   "display_name": "gfortran",
   "language": "Fortran",
   "name": "gfort_spec"
  },
  "language_info": {
   "file_extension": "f90",
   "mimetype": "text/plain",
   "name": "fortran"
  }
 },
 "nbformat": 4,
 "nbformat_minor": 4
}
