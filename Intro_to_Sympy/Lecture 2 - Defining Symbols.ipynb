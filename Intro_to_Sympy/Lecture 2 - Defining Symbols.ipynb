{
 "cells": [
  {
   "cell_type": "code",
   "execution_count": 1,
   "id": "163b9d4d-978e-4703-abb5-454ec1948deb",
   "metadata": {
    "execution": {
     "iopub.execute_input": "2024-08-19T01:29:15.289512Z",
     "iopub.status.busy": "2024-08-19T01:29:15.289046Z",
     "iopub.status.idle": "2024-08-19T01:29:15.604675Z",
     "shell.execute_reply": "2024-08-19T01:29:15.603560Z",
     "shell.execute_reply.started": "2024-08-19T01:29:15.289489Z"
    }
   },
   "outputs": [],
   "source": [
    "import sympy as sp"
   ]
  },
  {
   "cell_type": "code",
   "execution_count": 3,
   "id": "9c20e8f5-b5dc-47fb-ad27-cb8a8e75286f",
   "metadata": {
    "execution": {
     "iopub.execute_input": "2024-08-19T01:30:28.799449Z",
     "iopub.status.busy": "2024-08-19T01:30:28.798849Z",
     "iopub.status.idle": "2024-08-19T01:30:28.806847Z",
     "shell.execute_reply": "2024-08-19T01:30:28.805779Z",
     "shell.execute_reply.started": "2024-08-19T01:30:28.799426Z"
    }
   },
   "outputs": [
    {
     "data": {
      "text/latex": [
       "$\\displaystyle x$"
      ],
      "text/plain": [
       "x"
      ]
     },
     "execution_count": 3,
     "metadata": {},
     "output_type": "execute_result"
    }
   ],
   "source": [
    "x = sp.Symbol('x')\n",
    "x"
   ]
  },
  {
   "cell_type": "code",
   "execution_count": 4,
   "id": "c5b483ed-a447-43a3-b6b0-82f76a1c9a4b",
   "metadata": {
    "execution": {
     "iopub.execute_input": "2024-08-19T01:30:53.748968Z",
     "iopub.status.busy": "2024-08-19T01:30:53.748307Z",
     "iopub.status.idle": "2024-08-19T01:30:53.797585Z",
     "shell.execute_reply": "2024-08-19T01:30:53.796011Z",
     "shell.execute_reply.started": "2024-08-19T01:30:53.748894Z"
    }
   },
   "outputs": [
    {
     "data": {
      "text/latex": [
       "$\\displaystyle 2 x + 5$"
      ],
      "text/plain": [
       "2*x + 5"
      ]
     },
     "execution_count": 4,
     "metadata": {},
     "output_type": "execute_result"
    }
   ],
   "source": [
    "2*x + 5"
   ]
  },
  {
   "cell_type": "code",
   "execution_count": 5,
   "id": "258b7f2d-f267-40ab-9ac0-b00320a8ec2e",
   "metadata": {
    "execution": {
     "iopub.execute_input": "2024-08-19T01:31:35.298716Z",
     "iopub.status.busy": "2024-08-19T01:31:35.298292Z",
     "iopub.status.idle": "2024-08-19T01:31:35.389311Z",
     "shell.execute_reply": "2024-08-19T01:31:35.373627Z",
     "shell.execute_reply.started": "2024-08-19T01:31:35.298691Z"
    }
   },
   "outputs": [
    {
     "data": {
      "text/latex": [
       "$\\displaystyle z$"
      ],
      "text/plain": [
       "z"
      ]
     },
     "execution_count": 5,
     "metadata": {},
     "output_type": "execute_result"
    }
   ],
   "source": [
    "y = sp.Symbol(\"z\")\n",
    "y"
   ]
  },
  {
   "cell_type": "markdown",
   "id": "ecf84a65-33d0-4989-9bfd-bc354ef4023d",
   "metadata": {},
   "source": [
    "# Simplification"
   ]
  },
  {
   "cell_type": "code",
   "execution_count": 8,
   "id": "560f33da-7922-4103-86bd-742de99d28d3",
   "metadata": {
    "execution": {
     "iopub.execute_input": "2024-08-19T01:33:14.027521Z",
     "iopub.status.busy": "2024-08-19T01:33:14.027097Z",
     "iopub.status.idle": "2024-08-19T01:33:14.038430Z",
     "shell.execute_reply": "2024-08-19T01:33:14.037346Z",
     "shell.execute_reply.started": "2024-08-19T01:33:14.027489Z"
    }
   },
   "outputs": [
    {
     "data": {
      "text/latex": [
       "$\\displaystyle 3 x - 5$"
      ],
      "text/plain": [
       "3*x - 5"
      ]
     },
     "execution_count": 8,
     "metadata": {},
     "output_type": "execute_result"
    }
   ],
   "source": [
    "# Sometimes SymPy expressions are automatically simplified\n",
    "2*x + x -5"
   ]
  },
  {
   "cell_type": "code",
   "execution_count": 9,
   "id": "b7ed34f4-7e2e-424b-ae20-81b4e2cfbc11",
   "metadata": {
    "execution": {
     "iopub.execute_input": "2024-08-19T01:33:23.021089Z",
     "iopub.status.busy": "2024-08-19T01:33:23.020445Z",
     "iopub.status.idle": "2024-08-19T01:33:23.028643Z",
     "shell.execute_reply": "2024-08-19T01:33:23.028294Z",
     "shell.execute_reply.started": "2024-08-19T01:33:23.021054Z"
    }
   },
   "outputs": [
    {
     "data": {
      "text/latex": [
       "$\\displaystyle \\sin^{2}{\\left(x \\right)} + \\cos^{2}{\\left(x \\right)}$"
      ],
      "text/plain": [
       "sin(x)**2 + cos(x)**2"
      ]
     },
     "execution_count": 9,
     "metadata": {},
     "output_type": "execute_result"
    }
   ],
   "source": [
    "# Sine and cosine\n",
    "sp.sin(x)**2 + sp.cos(x)**2"
   ]
  },
  {
   "cell_type": "code",
   "execution_count": 10,
   "id": "d8577bd0-7bdf-425e-b6ec-f6eb5a6262a1",
   "metadata": {
    "execution": {
     "iopub.execute_input": "2024-08-19T01:34:03.368679Z",
     "iopub.status.busy": "2024-08-19T01:34:03.368131Z",
     "iopub.status.idle": "2024-08-19T01:34:03.401007Z",
     "shell.execute_reply": "2024-08-19T01:34:03.380038Z",
     "shell.execute_reply.started": "2024-08-19T01:34:03.368649Z"
    }
   },
   "outputs": [
    {
     "data": {
      "text/latex": [
       "$\\displaystyle \\frac{x}{3}$"
      ],
      "text/plain": [
       "x/3"
      ]
     },
     "execution_count": 10,
     "metadata": {},
     "output_type": "execute_result"
    }
   ],
   "source": [
    "# Division\n",
    "2*x / 6"
   ]
  },
  {
   "cell_type": "code",
   "execution_count": 11,
   "id": "e709f5c1-6cb6-4e81-b12f-679b2554b949",
   "metadata": {
    "execution": {
     "iopub.execute_input": "2024-08-19T01:34:23.250569Z",
     "iopub.status.busy": "2024-08-19T01:34:23.250252Z",
     "iopub.status.idle": "2024-08-19T01:34:23.296137Z",
     "shell.execute_reply": "2024-08-19T01:34:23.271936Z",
     "shell.execute_reply.started": "2024-08-19T01:34:23.250547Z"
    }
   },
   "outputs": [
    {
     "data": {
      "text/latex": [
       "$\\displaystyle 1$"
      ],
      "text/plain": [
       "1"
      ]
     },
     "execution_count": 11,
     "metadata": {},
     "output_type": "execute_result"
    }
   ],
   "source": [
    "# Cancellation in Division\n",
    "x/x"
   ]
  },
  {
   "cell_type": "markdown",
   "id": "d8f2ffd1-fd86-4932-9968-fbbfd8a551ec",
   "metadata": {},
   "source": [
    "Addition, subtraction, multiplication, and division are (usually) simplified in SymPy."
   ]
  },
  {
   "cell_type": "code",
   "execution_count": 12,
   "id": "5c3d06c9-9955-4640-9622-5da9bd8c5f7b",
   "metadata": {
    "execution": {
     "iopub.execute_input": "2024-08-19T01:35:41.984990Z",
     "iopub.status.busy": "2024-08-19T01:35:41.984631Z",
     "iopub.status.idle": "2024-08-19T01:35:42.041232Z",
     "shell.execute_reply": "2024-08-19T01:35:42.028184Z",
     "shell.execute_reply.started": "2024-08-19T01:35:41.984967Z"
    }
   },
   "outputs": [
    {
     "data": {
      "text/latex": [
       "$\\displaystyle x \\left(x + 2\\right)$"
      ],
      "text/plain": [
       "x*(x + 2)"
      ]
     },
     "execution_count": 12,
     "metadata": {},
     "output_type": "execute_result"
    }
   ],
   "source": [
    "# When is the multiplication not carried out?\n",
    "x*(x+2)"
   ]
  },
  {
   "cell_type": "code",
   "execution_count": 13,
   "id": "dba25918-60f7-4582-b253-61ee4cf2157a",
   "metadata": {
    "execution": {
     "iopub.execute_input": "2024-08-19T01:36:40.502091Z",
     "iopub.status.busy": "2024-08-19T01:36:40.501665Z",
     "iopub.status.idle": "2024-08-19T01:36:40.508349Z",
     "shell.execute_reply": "2024-08-19T01:36:40.507983Z",
     "shell.execute_reply.started": "2024-08-19T01:36:40.502070Z"
    }
   },
   "outputs": [
    {
     "data": {
      "text/latex": [
       "$\\displaystyle x \\left(x + 2\\right)$"
      ],
      "text/plain": [
       "x*(x + 2)"
      ]
     },
     "execution_count": 13,
     "metadata": {},
     "output_type": "execute_result"
    }
   ],
   "source": [
    "# When is the multiplication not carried out?\n",
    "expr = x*(x+2)\n",
    "expr"
   ]
  },
  {
   "cell_type": "markdown",
   "id": "b8663035-10c3-4aef-a0af-304caa942ee6",
   "metadata": {},
   "source": [
    "## Expand Expression"
   ]
  },
  {
   "cell_type": "markdown",
   "id": "0480f958-042d-4a3b-8dcf-9a58d1122f86",
   "metadata": {},
   "source": [
    "To expand an expression, we will use the expand method."
   ]
  },
  {
   "cell_type": "markdown",
   "id": "eae28e9c-a989-4658-87f0-ea720d2eb69b",
   "metadata": {},
   "source": [
    "Example 1"
   ]
  },
  {
   "cell_type": "code",
   "execution_count": 15,
   "id": "85c58117-3316-40ed-840f-88d80c21ae0a",
   "metadata": {
    "execution": {
     "iopub.execute_input": "2024-08-19T01:37:59.219540Z",
     "iopub.status.busy": "2024-08-19T01:37:59.219056Z",
     "iopub.status.idle": "2024-08-19T01:37:59.226966Z",
     "shell.execute_reply": "2024-08-19T01:37:59.225785Z",
     "shell.execute_reply.started": "2024-08-19T01:37:59.219517Z"
    }
   },
   "outputs": [
    {
     "data": {
      "text/latex": [
       "$\\displaystyle x^{2} + 2 x$"
      ],
      "text/plain": [
       "x**2 + 2*x"
      ]
     },
     "execution_count": 15,
     "metadata": {},
     "output_type": "execute_result"
    }
   ],
   "source": [
    "# Expanding the expression\n",
    "expr.expand()"
   ]
  },
  {
   "cell_type": "code",
   "execution_count": 16,
   "id": "c2b12eb0-bf83-4ea4-a6d4-e4b901825cf0",
   "metadata": {
    "execution": {
     "iopub.execute_input": "2024-08-19T01:38:16.254285Z",
     "iopub.status.busy": "2024-08-19T01:38:16.253889Z",
     "iopub.status.idle": "2024-08-19T01:38:16.298022Z",
     "shell.execute_reply": "2024-08-19T01:38:16.268199Z",
     "shell.execute_reply.started": "2024-08-19T01:38:16.254258Z"
    }
   },
   "outputs": [
    {
     "data": {
      "text/latex": [
       "$\\displaystyle x \\left(x + 2\\right)$"
      ],
      "text/plain": [
       "x*(x + 2)"
      ]
     },
     "execution_count": 16,
     "metadata": {},
     "output_type": "execute_result"
    }
   ],
   "source": [
    "# The expression itself does not change\n",
    "expr"
   ]
  },
  {
   "cell_type": "code",
   "execution_count": 17,
   "id": "9bf32ac4-c1fe-406d-80bc-7a708abbb0e0",
   "metadata": {
    "execution": {
     "iopub.execute_input": "2024-08-19T01:39:04.535473Z",
     "iopub.status.busy": "2024-08-19T01:39:04.534963Z",
     "iopub.status.idle": "2024-08-19T01:39:04.551647Z",
     "shell.execute_reply": "2024-08-19T01:39:04.550717Z",
     "shell.execute_reply.started": "2024-08-19T01:39:04.535443Z"
    }
   },
   "outputs": [
    {
     "data": {
      "text/latex": [
       "$\\displaystyle x^{2} + 2 x$"
      ],
      "text/plain": [
       "x**2 + 2*x"
      ]
     },
     "execution_count": 17,
     "metadata": {},
     "output_type": "execute_result"
    }
   ],
   "source": [
    "# Can also use expand as a function\n",
    "sp.expand(expr)"
   ]
  },
  {
   "cell_type": "markdown",
   "id": "bd4ef160-6a3a-4a7e-8db1-2322c2a28f53",
   "metadata": {},
   "source": [
    "### Example 2"
   ]
  },
  {
   "cell_type": "code",
   "execution_count": 19,
   "id": "141297ab-6485-4b7d-bee2-762f53a57161",
   "metadata": {
    "execution": {
     "iopub.execute_input": "2024-08-19T01:40:25.433798Z",
     "iopub.status.busy": "2024-08-19T01:40:25.433413Z",
     "iopub.status.idle": "2024-08-19T01:40:25.475509Z",
     "shell.execute_reply": "2024-08-19T01:40:25.451508Z",
     "shell.execute_reply.started": "2024-08-19T01:40:25.433778Z"
    }
   },
   "outputs": [
    {
     "data": {
      "text/plain": [
       "(s, t)"
      ]
     },
     "execution_count": 19,
     "metadata": {},
     "output_type": "execute_result"
    }
   ],
   "source": [
    "# Can define multiple symbols at once\n",
    "sp.symbols(\"s t\")\n",
    "# Can also seperate with a comma"
   ]
  },
  {
   "cell_type": "code",
   "execution_count": 21,
   "id": "0d25dcfe-674a-46b2-a759-a2526f599f8f",
   "metadata": {
    "execution": {
     "iopub.execute_input": "2024-08-19T01:40:56.929077Z",
     "iopub.status.busy": "2024-08-19T01:40:56.928724Z",
     "iopub.status.idle": "2024-08-19T01:40:56.933829Z",
     "shell.execute_reply": "2024-08-19T01:40:56.933402Z",
     "shell.execute_reply.started": "2024-08-19T01:40:56.929047Z"
    }
   },
   "outputs": [
    {
     "data": {
      "text/plain": [
       "tuple"
      ]
     },
     "execution_count": 21,
     "metadata": {},
     "output_type": "execute_result"
    }
   ],
   "source": [
    "# Can check the type.\n",
    "type(sp.symbols(\"s t\"))"
   ]
  },
  {
   "cell_type": "code",
   "execution_count": 23,
   "id": "434a1e67-451e-460f-aa03-71613375c22d",
   "metadata": {
    "execution": {
     "iopub.execute_input": "2024-08-19T01:42:05.889078Z",
     "iopub.status.busy": "2024-08-19T01:42:05.888761Z",
     "iopub.status.idle": "2024-08-19T01:42:05.894514Z",
     "shell.execute_reply": "2024-08-19T01:42:05.893432Z",
     "shell.execute_reply.started": "2024-08-19T01:42:05.889057Z"
    }
   },
   "outputs": [],
   "source": [
    "# Can use tuple unpacking to collect symbols\n",
    "s, t = sp.symbols(\"s,t\")"
   ]
  },
  {
   "cell_type": "code",
   "execution_count": 25,
   "id": "5cea5f93-7deb-4778-8e32-6426171a61e5",
   "metadata": {
    "execution": {
     "iopub.execute_input": "2024-08-19T01:42:33.066013Z",
     "iopub.status.busy": "2024-08-19T01:42:33.065061Z",
     "iopub.status.idle": "2024-08-19T01:42:33.079484Z",
     "shell.execute_reply": "2024-08-19T01:42:33.077835Z",
     "shell.execute_reply.started": "2024-08-19T01:42:33.065963Z"
    }
   },
   "outputs": [
    {
     "data": {
      "text/latex": [
       "$\\displaystyle t \\left(s + 2\\right) \\left(t - 3\\right)$"
      ],
      "text/plain": [
       "t*(s + 2)*(t - 3)"
      ]
     },
     "execution_count": 25,
     "metadata": {},
     "output_type": "execute_result"
    }
   ],
   "source": [
    "poly = t*(s+2)*(t-3)\n",
    "poly"
   ]
  },
  {
   "cell_type": "code",
   "execution_count": 27,
   "id": "bd3b715e-0f5c-4b04-b58d-15fe741d132e",
   "metadata": {
    "execution": {
     "iopub.execute_input": "2024-08-19T01:43:08.773666Z",
     "iopub.status.busy": "2024-08-19T01:43:08.773334Z",
     "iopub.status.idle": "2024-08-19T01:43:08.784660Z",
     "shell.execute_reply": "2024-08-19T01:43:08.783773Z",
     "shell.execute_reply.started": "2024-08-19T01:43:08.773644Z"
    }
   },
   "outputs": [
    {
     "data": {
      "text/latex": [
       "$\\displaystyle s t^{2} - 3 s t + 2 t^{2} - 6 t$"
      ],
      "text/plain": [
       "s*t**2 - 3*s*t + 2*t**2 - 6*t"
      ]
     },
     "execution_count": 27,
     "metadata": {},
     "output_type": "execute_result"
    }
   ],
   "source": [
    "# Expanding the curve\n",
    "poly.expand()"
   ]
  },
  {
   "cell_type": "markdown",
   "id": "b64ef529-5dae-4932-981b-64efdb537e62",
   "metadata": {},
   "source": [
    "## Factor Expressions"
   ]
  },
  {
   "cell_type": "markdown",
   "id": "bcfd8a89-5141-4e3f-8a55-e6aeb2662d11",
   "metadata": {},
   "source": [
    "To factor an expression, we will use the factor method."
   ]
  },
  {
   "cell_type": "markdown",
   "id": "220a42b9-46e0-436a-8fb5-a416d993aec2",
   "metadata": {},
   "source": [
    "### Example 1"
   ]
  },
  {
   "cell_type": "code",
   "execution_count": 28,
   "id": "acf90bf9-1a67-4a0e-87af-0e98ca423787",
   "metadata": {
    "execution": {
     "iopub.execute_input": "2024-08-19T01:44:24.027448Z",
     "iopub.status.busy": "2024-08-19T01:44:24.027138Z",
     "iopub.status.idle": "2024-08-19T01:44:24.034178Z",
     "shell.execute_reply": "2024-08-19T01:44:24.033431Z",
     "shell.execute_reply.started": "2024-08-19T01:44:24.027425Z"
    }
   },
   "outputs": [
    {
     "data": {
      "text/latex": [
       "$\\displaystyle x^{2} + 2 x - 15$"
      ],
      "text/plain": [
       "x**2 + 2*x - 15"
      ]
     },
     "execution_count": 28,
     "metadata": {},
     "output_type": "execute_result"
    }
   ],
   "source": [
    "expr = x**2 +2*x -15\n",
    "expr"
   ]
  },
  {
   "cell_type": "code",
   "execution_count": 29,
   "id": "ca14d9dc-113e-4154-981e-9d4535af1c84",
   "metadata": {
    "execution": {
     "iopub.execute_input": "2024-08-19T01:45:07.292619Z",
     "iopub.status.busy": "2024-08-19T01:45:07.292076Z",
     "iopub.status.idle": "2024-08-19T01:45:07.311203Z",
     "shell.execute_reply": "2024-08-19T01:45:07.305106Z",
     "shell.execute_reply.started": "2024-08-19T01:45:07.292588Z"
    }
   },
   "outputs": [
    {
     "data": {
      "text/latex": [
       "$\\displaystyle \\left(x - 3\\right) \\left(x + 5\\right)$"
      ],
      "text/plain": [
       "(x - 3)*(x + 5)"
      ]
     },
     "execution_count": 29,
     "metadata": {},
     "output_type": "execute_result"
    }
   ],
   "source": [
    "# Factoring the polynomial\n",
    "expr.factor()"
   ]
  },
  {
   "cell_type": "markdown",
   "id": "acfc8ff8-8959-4dbe-88da-c90f7bdd6c24",
   "metadata": {},
   "source": [
    "### Example 2"
   ]
  },
  {
   "cell_type": "code",
   "execution_count": 34,
   "id": "89085cfa-9ad7-47ed-a149-329e9cda515f",
   "metadata": {
    "execution": {
     "iopub.execute_input": "2024-08-19T01:47:42.673119Z",
     "iopub.status.busy": "2024-08-19T01:47:42.667755Z",
     "iopub.status.idle": "2024-08-19T01:47:42.729978Z",
     "shell.execute_reply": "2024-08-19T01:47:42.701508Z",
     "shell.execute_reply.started": "2024-08-19T01:47:42.673078Z"
    }
   },
   "outputs": [],
   "source": [
    "# Can make many symbols as follows\n",
    "x_v = sp.symbols(\"x0:3\")"
   ]
  },
  {
   "cell_type": "code",
   "execution_count": 35,
   "id": "cccfd573-7ba8-4441-8315-2297bc949372",
   "metadata": {
    "execution": {
     "iopub.execute_input": "2024-08-19T01:47:43.223560Z",
     "iopub.status.busy": "2024-08-19T01:47:43.222788Z",
     "iopub.status.idle": "2024-08-19T01:47:43.266194Z",
     "shell.execute_reply": "2024-08-19T01:47:43.247309Z",
     "shell.execute_reply.started": "2024-08-19T01:47:43.223517Z"
    }
   },
   "outputs": [
    {
     "data": {
      "text/plain": [
       "(x0, x1, x2)"
      ]
     },
     "execution_count": 35,
     "metadata": {},
     "output_type": "execute_result"
    }
   ],
   "source": [
    "x_v"
   ]
  },
  {
   "cell_type": "code",
   "execution_count": 36,
   "id": "8c04b60f-7172-4f38-986e-44b020ec1811",
   "metadata": {
    "execution": {
     "iopub.execute_input": "2024-08-19T01:49:17.683479Z",
     "iopub.status.busy": "2024-08-19T01:49:17.683116Z",
     "iopub.status.idle": "2024-08-19T01:49:17.694654Z",
     "shell.execute_reply": "2024-08-19T01:49:17.693828Z",
     "shell.execute_reply.started": "2024-08-19T01:49:17.683452Z"
    }
   },
   "outputs": [
    {
     "data": {
      "text/latex": [
       "$\\displaystyle x_{0}^{2} x_{1} x_{2} + x_{0} x_{1} x_{2}$"
      ],
      "text/plain": [
       "x0**2*x1*x2 + x0*x1*x2"
      ]
     },
     "execution_count": 36,
     "metadata": {},
     "output_type": "execute_result"
    }
   ],
   "source": [
    "ex = x_v[0]**2 * x_v[1] * x_v[2] + x_v[0] * x_v[1] * x_v[2]\n",
    "ex"
   ]
  },
  {
   "cell_type": "code",
   "execution_count": 37,
   "id": "08771b75-7b90-4a45-a147-1c86b9a9e4ce",
   "metadata": {
    "execution": {
     "iopub.execute_input": "2024-08-19T01:49:40.916183Z",
     "iopub.status.busy": "2024-08-19T01:49:40.915894Z",
     "iopub.status.idle": "2024-08-19T01:49:40.930465Z",
     "shell.execute_reply": "2024-08-19T01:49:40.929083Z",
     "shell.execute_reply.started": "2024-08-19T01:49:40.916161Z"
    }
   },
   "outputs": [
    {
     "data": {
      "text/latex": [
       "$\\displaystyle x_{0} x_{1} x_{2} \\left(x_{0} + 1\\right)$"
      ],
      "text/plain": [
       "x0*x1*x2*(x0 + 1)"
      ]
     },
     "execution_count": 37,
     "metadata": {},
     "output_type": "execute_result"
    }
   ],
   "source": [
    "# Factoring the expression\n",
    "ex.factor()"
   ]
  },
  {
   "cell_type": "code",
   "execution_count": null,
   "id": "e6345c75-afbc-472f-b543-b3d0f299aad6",
   "metadata": {},
   "outputs": [],
   "source": []
  }
 ],
 "metadata": {
  "kernelspec": {
   "display_name": "Python 3.11",
   "language": "python",
   "name": "py311_env"
  },
  "language_info": {
   "codemirror_mode": {
    "name": "ipython",
    "version": 3
   },
   "file_extension": ".py",
   "mimetype": "text/x-python",
   "name": "python",
   "nbconvert_exporter": "python",
   "pygments_lexer": "ipython3",
   "version": "3.10.14"
  }
 },
 "nbformat": 4,
 "nbformat_minor": 5
}
