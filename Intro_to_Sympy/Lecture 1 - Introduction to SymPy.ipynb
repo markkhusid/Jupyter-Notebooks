{
 "cells": [
  {
   "cell_type": "markdown",
   "id": "c2507e3b-5f7b-4b0f-9d56-bba551defef5",
   "metadata": {},
   "source": [
    "# Introduction to SymPy"
   ]
  },
  {
   "cell_type": "code",
   "execution_count": 4,
   "id": "290da229-0445-436e-85ce-3bb016d84e52",
   "metadata": {
    "execution": {
     "iopub.execute_input": "2024-08-19T01:26:01.605385Z",
     "iopub.status.busy": "2024-08-19T01:26:01.605094Z",
     "iopub.status.idle": "2024-08-19T01:26:01.622260Z",
     "shell.execute_reply": "2024-08-19T01:26:01.621052Z",
     "shell.execute_reply.started": "2024-08-19T01:26:01.605366Z"
    }
   },
   "outputs": [],
   "source": [
    "import sympy as sp\n",
    "import math"
   ]
  },
  {
   "cell_type": "code",
   "execution_count": 2,
   "id": "a76eab12-8a87-4a5d-a9f0-8a3ba8aabb2a",
   "metadata": {
    "execution": {
     "iopub.execute_input": "2024-08-19T01:24:56.716904Z",
     "iopub.status.busy": "2024-08-19T01:24:56.716520Z",
     "iopub.status.idle": "2024-08-19T01:24:56.727996Z",
     "shell.execute_reply": "2024-08-19T01:24:56.727300Z",
     "shell.execute_reply.started": "2024-08-19T01:24:56.716876Z"
    }
   },
   "outputs": [
    {
     "data": {
      "text/latex": [
       "$\\displaystyle \\sqrt{2}$"
      ],
      "text/plain": [
       "sqrt(2)"
      ]
     },
     "execution_count": 2,
     "metadata": {},
     "output_type": "execute_result"
    }
   ],
   "source": [
    "sp.sqrt(2)"
   ]
  },
  {
   "cell_type": "code",
   "execution_count": 10,
   "id": "b66c3312-4459-4fa6-881d-188f89d36f16",
   "metadata": {
    "execution": {
     "iopub.execute_input": "2024-08-19T01:27:13.620109Z",
     "iopub.status.busy": "2024-08-19T01:27:13.619782Z",
     "iopub.status.idle": "2024-08-19T01:27:13.640987Z",
     "shell.execute_reply": "2024-08-19T01:27:13.627131Z",
     "shell.execute_reply.started": "2024-08-19T01:27:13.620088Z"
    }
   },
   "outputs": [
    {
     "data": {
      "text/latex": [
       "$\\displaystyle 2$"
      ],
      "text/plain": [
       "2"
      ]
     },
     "execution_count": 10,
     "metadata": {},
     "output_type": "execute_result"
    }
   ],
   "source": [
    "sp.sqrt(2) ** 2 # Symbolic"
   ]
  },
  {
   "cell_type": "code",
   "execution_count": 8,
   "id": "f3f468f0-4977-4347-a1ae-2995b9e7baf3",
   "metadata": {
    "execution": {
     "iopub.execute_input": "2024-08-19T01:27:08.070785Z",
     "iopub.status.busy": "2024-08-19T01:27:08.070446Z",
     "iopub.status.idle": "2024-08-19T01:27:08.079751Z",
     "shell.execute_reply": "2024-08-19T01:27:08.078857Z",
     "shell.execute_reply.started": "2024-08-19T01:27:08.070764Z"
    }
   },
   "outputs": [
    {
     "data": {
      "text/plain": [
       "1.4142135623730951"
      ]
     },
     "execution_count": 8,
     "metadata": {},
     "output_type": "execute_result"
    }
   ],
   "source": [
    "math.sqrt(2) # Numeric"
   ]
  },
  {
   "cell_type": "code",
   "execution_count": 6,
   "id": "d57d416d-9e0b-4c65-ac53-af21371f29e6",
   "metadata": {
    "execution": {
     "iopub.execute_input": "2024-08-19T01:26:29.928536Z",
     "iopub.status.busy": "2024-08-19T01:26:29.928159Z",
     "iopub.status.idle": "2024-08-19T01:26:29.946636Z",
     "shell.execute_reply": "2024-08-19T01:26:29.944757Z",
     "shell.execute_reply.started": "2024-08-19T01:26:29.928511Z"
    }
   },
   "outputs": [
    {
     "data": {
      "text/plain": [
       "2.0000000000000004"
      ]
     },
     "execution_count": 6,
     "metadata": {},
     "output_type": "execute_result"
    }
   ],
   "source": [
    "math.sqrt(2) ** 2"
   ]
  },
  {
   "cell_type": "code",
   "execution_count": null,
   "id": "fc4a2d97-b7f3-4de6-a877-a6700a5b9917",
   "metadata": {},
   "outputs": [],
   "source": []
  }
 ],
 "metadata": {
  "kernelspec": {
   "display_name": "Python 3.11",
   "language": "python",
   "name": "py311_env"
  },
  "language_info": {
   "codemirror_mode": {
    "name": "ipython",
    "version": 3
   },
   "file_extension": ".py",
   "mimetype": "text/x-python",
   "name": "python",
   "nbconvert_exporter": "python",
   "pygments_lexer": "ipython3",
   "version": "3.10.14"
  }
 },
 "nbformat": 4,
 "nbformat_minor": 5
}
