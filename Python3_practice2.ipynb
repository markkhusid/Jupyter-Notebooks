{
 "cells": [
  {
   "cell_type": "code",
   "execution_count": 1,
   "metadata": {},
   "outputs": [
    {
     "name": "stdout",
     "output_type": "stream",
     "text": [
      "()\n",
      "('A',)\n",
      "('B',)\n",
      "('C',)\n",
      "('A', 'B')\n",
      "('A', 'C')\n",
      "('B', 'C')\n",
      "('A', 'B', 'C')\n"
     ]
    }
   ],
   "source": [
    "import itertools\n",
    "\n",
    "stuff = [\"A\", \"B\", \"C\"]\n",
    "for L in range(0, len(stuff)+1):\n",
    "    for subset in itertools.combinations(stuff, L):\n",
    "        print(subset)"
   ]
  },
  {
   "cell_type": "code",
   "execution_count": 2,
   "metadata": {},
   "outputs": [
    {
     "name": "stdout",
     "output_type": "stream",
     "text": [
      "('A', 'B')\n",
      "('A', 'C')\n",
      "('B', 'C')\n"
     ]
    }
   ],
   "source": [
    "sorted = itertools.combinations(stuff, 2)\n",
    "\n",
    "for subset in sorted:\n",
    "    print(subset)"
   ]
  },
  {
   "cell_type": "code",
   "execution_count": 3,
   "metadata": {},
   "outputs": [
    {
     "name": "stdout",
     "output_type": "stream",
     "text": [
      "('R1hi', 'R1nom')\n",
      "('R1hi', 'R1lo')\n",
      "('R1hi', 'R2hi')\n",
      "('R1hi', 'R2nom')\n",
      "('R1hi', 'R2lo')\n",
      "('R1nom', 'R1lo')\n",
      "('R1nom', 'R2hi')\n",
      "('R1nom', 'R2nom')\n",
      "('R1nom', 'R2lo')\n",
      "('R1lo', 'R2hi')\n",
      "('R1lo', 'R2nom')\n",
      "('R1lo', 'R2lo')\n",
      "('R2hi', 'R2nom')\n",
      "('R2hi', 'R2lo')\n",
      "('R2nom', 'R2lo')\n"
     ]
    }
   ],
   "source": [
    "# A Python program to print all \n",
    "# combinations of given length \n",
    "from itertools import combinations \n",
    "\n",
    "# Get all combinations of [1, 2, 3] \n",
    "# and length 2 \n",
    "comb = combinations([\"R1hi\", \"R1nom\", \"R1lo\", \"R2hi\", \"R2nom\", \"R2lo\"],2) \n",
    "\n",
    "# Print the obtained combinations \n",
    "counter = 0\n",
    "for i in list(comb): \n",
    "    counter += 1 \n",
    "    print (i) \n",
    "    #print(counter)\n"
   ]
  },
  {
   "cell_type": "code",
   "execution_count": 4,
   "metadata": {},
   "outputs": [
    {
     "name": "stdout",
     "output_type": "stream",
     "text": [
      "('R1hi', 'R1nom')\n",
      "('R1hi', 'R1lo')\n",
      "('R1hi', 'R2hi')\n",
      "('R1hi', 'R2nom')\n",
      "('R1hi', 'R2lo')\n",
      "('R1nom', 'R1hi')\n",
      "('R1nom', 'R1lo')\n",
      "('R1nom', 'R2hi')\n",
      "('R1nom', 'R2nom')\n",
      "('R1nom', 'R2lo')\n",
      "('R1lo', 'R1hi')\n",
      "('R1lo', 'R1nom')\n",
      "('R1lo', 'R2hi')\n",
      "('R1lo', 'R2nom')\n",
      "('R1lo', 'R2lo')\n",
      "('R2hi', 'R1hi')\n",
      "('R2hi', 'R1nom')\n",
      "('R2hi', 'R1lo')\n",
      "('R2hi', 'R2nom')\n",
      "('R2hi', 'R2lo')\n",
      "('R2nom', 'R1hi')\n",
      "('R2nom', 'R1nom')\n",
      "('R2nom', 'R1lo')\n",
      "('R2nom', 'R2hi')\n",
      "('R2nom', 'R2lo')\n",
      "('R2lo', 'R1hi')\n",
      "('R2lo', 'R1nom')\n",
      "('R2lo', 'R1lo')\n",
      "('R2lo', 'R2hi')\n",
      "('R2lo', 'R2nom')\n"
     ]
    }
   ],
   "source": [
    "# A Python program to print all \n",
    "# permutations using library function \n",
    "from itertools import permutations \n",
    "\n",
    "# Get all permutations of [1, 2, 3] \n",
    "perm = permutations([\"R1hi\", \"R1nom\", \"R1lo\", \"R2hi\", \"R2nom\", \"R2lo\"], 2) \n",
    "\n",
    "# Print the obtained permutations \n",
    "for i in list(perm): \n",
    "    print (i)"
   ]
  },
  {
   "cell_type": "code",
   "execution_count": 5,
   "metadata": {},
   "outputs": [
    {
     "name": "stdout",
     "output_type": "stream",
     "text": [
      "('R1hi', 'R1hi')\n",
      "('R1hi', 'R1nom')\n",
      "('R1hi', 'R1lo')\n",
      "('R1hi', 'R2hi')\n",
      "('R1hi', 'R2nom')\n",
      "('R1hi', 'R2lo')\n",
      "('R1nom', 'R1nom')\n",
      "('R1nom', 'R1lo')\n",
      "('R1nom', 'R2hi')\n",
      "('R1nom', 'R2nom')\n",
      "('R1nom', 'R2lo')\n",
      "('R1lo', 'R1lo')\n",
      "('R1lo', 'R2hi')\n",
      "('R1lo', 'R2nom')\n",
      "('R1lo', 'R2lo')\n",
      "('R2hi', 'R2hi')\n",
      "('R2hi', 'R2nom')\n",
      "('R2hi', 'R2lo')\n",
      "('R2nom', 'R2nom')\n",
      "('R2nom', 'R2lo')\n",
      "('R2lo', 'R2lo')\n"
     ]
    }
   ],
   "source": [
    "# A Python program to print all combinations \n",
    "# with an element-to-itself combination is \n",
    "# also included \n",
    "from itertools import combinations_with_replacement \n",
    "\n",
    "# Get all combinations of [1, 2, 3] and length 2 \n",
    "comb = combinations_with_replacement([\"R1hi\", \"R1nom\", \"R1lo\", \"R2hi\", \"R2nom\", \"R2lo\"], 2) \n",
    "\n",
    "# Print the obtained combinations \n",
    "for i in list(comb): \n",
    "    print (i) "
   ]
  },
  {
   "cell_type": "code",
   "execution_count": 6,
   "metadata": {},
   "outputs": [
    {
     "name": "stdout",
     "output_type": "stream",
     "text": [
      "The original lists are : [['R1hi', 'R1nom', 'R1lo'], ['R2hi', 'R2nom', 'R2lo']]\n",
      "('R1hi', 'R2hi')\n",
      "('R1hi', 'R2nom')\n",
      "('R1hi', 'R2lo')\n",
      "('R1nom', 'R2hi')\n",
      "('R1nom', 'R2nom')\n",
      "('R1nom', 'R2lo')\n",
      "('R1lo', 'R2hi')\n",
      "('R1lo', 'R2nom')\n",
      "('R1lo', 'R2lo')\n",
      "There are  9  items.\n"
     ]
    }
   ],
   "source": [
    "import itertools \n",
    "  \n",
    "# initializing list of list  \n",
    "all_list = [ [\"R1hi\", \"R1nom\", \"R1lo\"], [\"R2hi\", \"R2nom\", \"R2lo\"] ] \n",
    "  \n",
    "# printing lists  \n",
    "print (\"The original lists are : \" + str(all_list)) \n",
    "  \n",
    "# using itertools.product()   \n",
    "# to compute all possible permutations \n",
    "res = list(itertools.product(*all_list)) \n",
    "  \n",
    "# printing result \n",
    "counter = 0\n",
    "for i in res:\n",
    "    print (i)\n",
    "    counter += 1\n",
    "\n",
    "print (\"There are \", counter, \" items.\")"
   ]
  },
  {
   "cell_type": "code",
   "execution_count": 7,
   "metadata": {},
   "outputs": [
    {
     "name": "stdout",
     "output_type": "stream",
     "text": [
      "The original lists are : [['R1hi', 'R1lo'], ['R2hi', 'R2lo']]\n",
      "('R1hi', 'R2hi')\n",
      "('R1hi', 'R2lo')\n",
      "('R1lo', 'R2hi')\n",
      "('R1lo', 'R2lo')\n",
      "There are  4  items.\n"
     ]
    }
   ],
   "source": [
    "import itertools \n",
    "  \n",
    "# initializing list of list  \n",
    "all_list = [ [\"R1hi\", \"R1lo\"], [\"R2hi\", \"R2lo\"] ] \n",
    "  \n",
    "# printing lists  \n",
    "print (\"The original lists are : \" + str(all_list)) \n",
    "  \n",
    "# using itertools.product()   \n",
    "# to compute all possible permutations \n",
    "res = list(itertools.product(*all_list)) \n",
    "  \n",
    "# printing result \n",
    "counter = 0\n",
    "for i in res:\n",
    "    print (i)\n",
    "    counter += 1\n",
    "\n",
    "print (\"There are \", counter, \" items.\")"
   ]
  },
  {
   "cell_type": "code",
   "execution_count": 8,
   "metadata": {},
   "outputs": [
    {
     "name": "stdout",
     "output_type": "stream",
     "text": [
      "The original lists are : [['R1hi', 'R1nom', 'R1lo'], ['R2hi', 'R2nom', 'R2lo'], ['R3hi', 'R3nom', 'R3lo']]\n",
      "('R1hi', 'R2hi', 'R3hi')\n",
      "('R1hi', 'R2hi', 'R3nom')\n",
      "('R1hi', 'R2hi', 'R3lo')\n",
      "('R1hi', 'R2nom', 'R3hi')\n",
      "('R1hi', 'R2nom', 'R3nom')\n",
      "('R1hi', 'R2nom', 'R3lo')\n",
      "('R1hi', 'R2lo', 'R3hi')\n",
      "('R1hi', 'R2lo', 'R3nom')\n",
      "('R1hi', 'R2lo', 'R3lo')\n",
      "('R1nom', 'R2hi', 'R3hi')\n",
      "('R1nom', 'R2hi', 'R3nom')\n",
      "('R1nom', 'R2hi', 'R3lo')\n",
      "('R1nom', 'R2nom', 'R3hi')\n",
      "('R1nom', 'R2nom', 'R3nom')\n",
      "('R1nom', 'R2nom', 'R3lo')\n",
      "('R1nom', 'R2lo', 'R3hi')\n",
      "('R1nom', 'R2lo', 'R3nom')\n",
      "('R1nom', 'R2lo', 'R3lo')\n",
      "('R1lo', 'R2hi', 'R3hi')\n",
      "('R1lo', 'R2hi', 'R3nom')\n",
      "('R1lo', 'R2hi', 'R3lo')\n",
      "('R1lo', 'R2nom', 'R3hi')\n",
      "('R1lo', 'R2nom', 'R3nom')\n",
      "('R1lo', 'R2nom', 'R3lo')\n",
      "('R1lo', 'R2lo', 'R3hi')\n",
      "('R1lo', 'R2lo', 'R3nom')\n",
      "('R1lo', 'R2lo', 'R3lo')\n",
      "There are  27  items.\n"
     ]
    }
   ],
   "source": [
    "import itertools \n",
    "  \n",
    "# initializing list of list  \n",
    "all_list = [ [\"R1hi\", \"R1nom\", \"R1lo\"], [\"R2hi\", \"R2nom\", \"R2lo\"], [\"R3hi\", \"R3nom\", \"R3lo\"] ] \n",
    "  \n",
    "# printing lists  \n",
    "print (\"The original lists are : \" + str(all_list)) \n",
    "  \n",
    "# using itertools.product()   \n",
    "# to compute all possible permutations \n",
    "res = list(itertools.product(*all_list)) \n",
    "  \n",
    "# printing result \n",
    "counter = 0\n",
    "for i in res:\n",
    "    print (i)\n",
    "    counter += 1\n",
    "\n",
    "print (\"There are \", counter, \" items.\")"
   ]
  },
  {
   "cell_type": "code",
   "execution_count": 9,
   "metadata": {},
   "outputs": [
    {
     "name": "stdout",
     "output_type": "stream",
     "text": [
      "Help on module voltage_divider:\n",
      "\n",
      "NAME\n",
      "    voltage_divider\n",
      "\n",
      "DESCRIPTION\n",
      "    This module 'voltage_divider' is auto-generated with f2py (version:2).\n",
      "    Functions:\n",
      "      vout = voltage_divider(vin,r_array)\n",
      "    .\n",
      "\n",
      "DATA\n",
      "    voltage_divider = <fortran object>\n",
      "\n",
      "VERSION\n",
      "    b'$Revision: $'\n",
      "\n",
      "FILE\n",
      "    /home/ubuntu/Engineering/Programming/Jupyter-Notebooks/voltage_divider.cpython-37m-x86_64-linux-gnu.so\n",
      "\n",
      "\n"
     ]
    }
   ],
   "source": [
    "import voltage_divider\n",
    "help(voltage_divider)"
   ]
  },
  {
   "cell_type": "markdown",
   "metadata": {},
   "source": [
    "Assign nominal values to resistors"
   ]
  },
  {
   "cell_type": "code",
   "execution_count": 10,
   "metadata": {},
   "outputs": [],
   "source": [
    "R1nom = 1000\n",
    "R2nom = 1000\n",
    "R3nom = 1000"
   ]
  },
  {
   "cell_type": "markdown",
   "metadata": {},
   "source": [
    "Assign resistor tolerance (1%)"
   ]
  },
  {
   "cell_type": "code",
   "execution_count": 11,
   "metadata": {},
   "outputs": [],
   "source": [
    "Rtol = 0.01"
   ]
  },
  {
   "cell_type": "markdown",
   "metadata": {},
   "source": [
    "Create lists of resistor tolerance bands"
   ]
  },
  {
   "cell_type": "code",
   "execution_count": 12,
   "metadata": {},
   "outputs": [],
   "source": [
    "R1hi = R1nom*(1+Rtol)\n",
    "R2hi = R2nom*(1+Rtol)\n",
    "R3hi = R3nom*(1+Rtol)"
   ]
  },
  {
   "cell_type": "code",
   "execution_count": 13,
   "metadata": {},
   "outputs": [],
   "source": [
    "R1lo = R1nom*(1-Rtol)\n",
    "R2lo = R2nom*(1-Rtol)\n",
    "R3lo = R3nom*(1-Rtol)"
   ]
  },
  {
   "cell_type": "code",
   "execution_count": 14,
   "metadata": {},
   "outputs": [
    {
     "name": "stdout",
     "output_type": "stream",
     "text": [
      "[1010.0, 1000, 990.0]\n",
      "[1010.0, 1000, 990.0]\n",
      "[1010.0, 1000, 990.0]\n"
     ]
    }
   ],
   "source": [
    "R1_list = [R1hi, R1nom, R1lo]\n",
    "R2_list = [R2hi, R2nom, R2lo]\n",
    "R3_list = [R3hi, R3nom, R3lo]\n",
    "\n",
    "print (R1_list)\n",
    "print (R2_list)\n",
    "print (R3_list)"
   ]
  },
  {
   "cell_type": "code",
   "execution_count": 15,
   "metadata": {},
   "outputs": [
    {
     "data": {
      "text/plain": [
       "list"
      ]
     },
     "execution_count": 15,
     "metadata": {},
     "output_type": "execute_result"
    }
   ],
   "source": [
    "type(R1_list)"
   ]
  },
  {
   "cell_type": "code",
   "execution_count": 16,
   "metadata": {},
   "outputs": [],
   "source": [
    "all_list_resistors = [ R1_list, R2_list, R3_list ]"
   ]
  },
  {
   "cell_type": "code",
   "execution_count": 17,
   "metadata": {},
   "outputs": [
    {
     "data": {
      "text/plain": [
       "[['R1hi', 'R1nom', 'R1lo'],\n",
       " ['R2hi', 'R2nom', 'R2lo'],\n",
       " ['R3hi', 'R3nom', 'R3lo']]"
      ]
     },
     "execution_count": 17,
     "metadata": {},
     "output_type": "execute_result"
    }
   ],
   "source": [
    "all_list"
   ]
  },
  {
   "cell_type": "code",
   "execution_count": 18,
   "metadata": {},
   "outputs": [],
   "source": [
    "resistors = list(itertools.product(*all_list_resistors))"
   ]
  },
  {
   "cell_type": "code",
   "execution_count": 19,
   "metadata": {},
   "outputs": [
    {
     "data": {
      "text/plain": [
       "[(1010.0, 1010.0, 1010.0),\n",
       " (1010.0, 1010.0, 1000),\n",
       " (1010.0, 1010.0, 990.0),\n",
       " (1010.0, 1000, 1010.0),\n",
       " (1010.0, 1000, 1000),\n",
       " (1010.0, 1000, 990.0),\n",
       " (1010.0, 990.0, 1010.0),\n",
       " (1010.0, 990.0, 1000),\n",
       " (1010.0, 990.0, 990.0),\n",
       " (1000, 1010.0, 1010.0),\n",
       " (1000, 1010.0, 1000),\n",
       " (1000, 1010.0, 990.0),\n",
       " (1000, 1000, 1010.0),\n",
       " (1000, 1000, 1000),\n",
       " (1000, 1000, 990.0),\n",
       " (1000, 990.0, 1010.0),\n",
       " (1000, 990.0, 1000),\n",
       " (1000, 990.0, 990.0),\n",
       " (990.0, 1010.0, 1010.0),\n",
       " (990.0, 1010.0, 1000),\n",
       " (990.0, 1010.0, 990.0),\n",
       " (990.0, 1000, 1010.0),\n",
       " (990.0, 1000, 1000),\n",
       " (990.0, 1000, 990.0),\n",
       " (990.0, 990.0, 1010.0),\n",
       " (990.0, 990.0, 1000),\n",
       " (990.0, 990.0, 990.0)]"
      ]
     },
     "execution_count": 19,
     "metadata": {},
     "output_type": "execute_result"
    }
   ],
   "source": [
    "resistors"
   ]
  },
  {
   "cell_type": "code",
   "execution_count": 20,
   "metadata": {},
   "outputs": [
    {
     "data": {
      "text/plain": [
       "1.6721854209899902"
      ]
     },
     "execution_count": 20,
     "metadata": {},
     "output_type": "execute_result"
    }
   ],
   "source": [
    "voltage_divider.voltage_divider(5, resistors[1])"
   ]
  },
  {
   "cell_type": "code",
   "execution_count": 21,
   "metadata": {},
   "outputs": [],
   "source": [
    "end_stop = len(resistors)\n",
    "output_voltage_list = []"
   ]
  },
  {
   "cell_type": "code",
   "execution_count": 22,
   "metadata": {},
   "outputs": [],
   "source": [
    "output_voltage_list.append(voltage_divider.voltage_divider(5, resistors[1]))"
   ]
  },
  {
   "cell_type": "code",
   "execution_count": 23,
   "metadata": {},
   "outputs": [
    {
     "name": "stdout",
     "output_type": "stream",
     "text": [
      "[1.6721854209899902]\n"
     ]
    }
   ],
   "source": [
    "print(output_voltage_list)"
   ]
  },
  {
   "cell_type": "code",
   "execution_count": 24,
   "metadata": {},
   "outputs": [],
   "source": [
    "for i in range(end_stop):\n",
    "    output_voltage_list.append(voltage_divider.voltage_divider(5, resistors[i]))"
   ]
  },
  {
   "cell_type": "code",
   "execution_count": 25,
   "metadata": {},
   "outputs": [
    {
     "name": "stdout",
     "output_type": "stream",
     "text": [
      "[1.6721854209899902, 1.6666667461395264, 1.6721854209899902, 1.6777408123016357, 1.6721854209899902, 1.6777408123016357, 1.683333396911621, 1.6777408123016357, 1.683333396911621, 1.6889631748199463, 1.6556291580200195, 1.6611295938491821, 1.6666667461395264, 1.6611295938491821, 1.6666667461395264, 1.6722407341003418, 1.6666667461395264, 1.6722407341003418, 1.6778523921966553, 1.644518256187439, 1.6500000953674316, 1.6555184125900269, 1.6500000953674316, 1.6555184125900269, 1.661073923110962, 1.6555184125900269, 1.661073923110962, 1.6666667461395264]\n"
     ]
    }
   ],
   "source": [
    "print(output_voltage_list)"
   ]
  },
  {
   "cell_type": "code",
   "execution_count": 26,
   "metadata": {},
   "outputs": [
    {
     "data": {
      "text/plain": [
       "1.6889631748199463"
      ]
     },
     "execution_count": 26,
     "metadata": {},
     "output_type": "execute_result"
    }
   ],
   "source": [
    "max(output_voltage_list)"
   ]
  },
  {
   "cell_type": "code",
   "execution_count": 27,
   "metadata": {},
   "outputs": [
    {
     "name": "stdout",
     "output_type": "stream",
     "text": [
      "8\n"
     ]
    }
   ],
   "source": [
    "max_index = output_voltage_list.index(max(output_voltage_list)) - 1\n",
    "print(max_index)"
   ]
  },
  {
   "cell_type": "code",
   "execution_count": 28,
   "metadata": {},
   "outputs": [
    {
     "data": {
      "text/plain": [
       "('R1hi', 'R2lo', 'R3lo')"
      ]
     },
     "execution_count": 28,
     "metadata": {},
     "output_type": "execute_result"
    }
   ],
   "source": [
    "res[max_index]"
   ]
  },
  {
   "cell_type": "code",
   "execution_count": 29,
   "metadata": {},
   "outputs": [
    {
     "data": {
      "text/markdown": [
       "This is markdown with curly braces 5.5000"
      ],
      "text/plain": [
       "<IPython.core.display.Markdown object>"
      ]
     },
     "execution_count": 29,
     "metadata": {},
     "output_type": "execute_result"
    }
   ],
   "source": [
    "from IPython.display import Markdown as md\n",
    "a = 5.5\n",
    "md (\"This is markdown $\\Delta$ {0:4.4f}\".format(a))\n",
    "md (\"This is markdown with curly braces {0:4.4f}\".format(a))"
   ]
  },
  {
   "cell_type": "code",
   "execution_count": 30,
   "metadata": {},
   "outputs": [
    {
     "data": {
      "text/markdown": [
       "$$\\frac{{a}}{{b}} a = 5 $$"
      ],
      "text/plain": [
       "<IPython.core.display.Markdown object>"
      ]
     },
     "execution_count": 30,
     "metadata": {},
     "output_type": "execute_result"
    }
   ],
   "source": [
    "md (\"$$\\\\frac{{a}}{{b}} a = 5 $$\")"
   ]
  },
  {
   "cell_type": "code",
   "execution_count": 31,
   "metadata": {},
   "outputs": [
    {
     "data": {
      "text/markdown": [
       "$$ a_{{23}}  $$"
      ],
      "text/plain": [
       "<IPython.core.display.Markdown object>"
      ]
     },
     "execution_count": 31,
     "metadata": {},
     "output_type": "execute_result"
    }
   ],
   "source": [
    "md (\"$$ a_{{23}}  $$\")"
   ]
  },
  {
   "cell_type": "code",
   "execution_count": 32,
   "metadata": {},
   "outputs": [
    {
     "data": {
      "text/markdown": [
       "$$\\frac{ab}{cd} = 5.5000$$"
      ],
      "text/plain": [
       "<IPython.core.display.Markdown object>"
      ]
     },
     "execution_count": 32,
     "metadata": {},
     "output_type": "execute_result"
    }
   ],
   "source": [
    "md (\"$$\\\\frac{{ab}}{{cd}} = {0:4.4f}$$\".format(a))"
   ]
  },
  {
   "cell_type": "code",
   "execution_count": 33,
   "metadata": {},
   "outputs": [],
   "source": [
    "%matplotlib inline\n",
    "import numpy as np\n",
    "from scipy import fftpack\n",
    "import matplotlib.pyplot as plt\n",
    "#plt.style.use('style/elegant.mplstyle')"
   ]
  },
  {
   "cell_type": "code",
   "execution_count": 34,
   "metadata": {},
   "outputs": [],
   "source": [
    "x = np.zeros(500)"
   ]
  },
  {
   "cell_type": "code",
   "execution_count": 35,
   "metadata": {},
   "outputs": [],
   "source": [
    "x[100:150] = 1"
   ]
  },
  {
   "cell_type": "code",
   "execution_count": 36,
   "metadata": {},
   "outputs": [],
   "source": [
    "X = fftpack.fft(x)"
   ]
  },
  {
   "cell_type": "code",
   "execution_count": 37,
   "metadata": {},
   "outputs": [
    {
     "data": {
      "text/plain": [
       "(-5, 55)"
      ]
     },
     "execution_count": 37,
     "metadata": {},
     "output_type": "execute_result"
    },
    {
     "data": {
      "image/png": "[encoded data removed]",
      "text/plain": [
       "<Figure size 864x864 with 2 Axes>"
      ]
     },
     "metadata": {
      "needs_background": "light"
     },
     "output_type": "display_data"
    }
   ],
   "source": [
    "f, (ax0, ax1) = plt.subplots(2, 1, sharex=True, figsize=(12,12))\n",
    "ax0.plot(x)\n",
    "ax0.set_ylim(-0.1, 1.1)\n",
    "ax1.plot(fftpack.fftshift(np.abs(X)))\n",
    "ax1.set_ylim(-5, 55)"
   ]
  },
  {
   "cell_type": "code",
   "execution_count": 59,
   "metadata": {},
   "outputs": [
    {
     "data": {
      "image/png": "[encoded data removed]",
      "text/latex": [
       "$\\displaystyle \\left( 0, \\  170\\right)$"
      ],
      "text/plain": [
       "(0, 170)"
      ]
     },
     "execution_count": 59,
     "metadata": {},
     "output_type": "execute_result"
    },
    {
     "data": {
      "image/png": "[encoded data removed]",
      "text/plain": [
       "<Figure size 864x864 with 2 Axes>"
      ]
     },
     "metadata": {
      "needs_background": "light"
     },
     "output_type": "display_data"
    }
   ],
   "source": [
    "t = np.linspace(0, 1, 500)\n",
    "x = np.sin (50 * np.pi * t)\n",
    "X = fftpack.fft(x)\n",
    "f, (ax0, ax1) = plt.subplots(2, 1, figsize=(12,12))\n",
    "ax0.plot(x)\n",
    "ax0.set_ylim(-1.1, 1.1)\n",
    "ax1.plot(fftpack.fftfreq(len(t)), np.abs(X))\n",
    "ax1.set_ylim(0, 170)"
   ]
  },
  {
   "cell_type": "code",
   "execution_count": 1,
   "metadata": {},
   "outputs": [],
   "source": [
    "import sympy as sp\n",
    "#sp.init_printing()"
   ]
  },
  {
   "cell_type": "code",
   "execution_count": 40,
   "metadata": {},
   "outputs": [],
   "source": [
    "x = sp.Symbol('x')\n",
    "y,z = sp.symbols('y,z')"
   ]
  },
  {
   "cell_type": "code",
   "execution_count": 41,
   "metadata": {},
   "outputs": [],
   "source": [
    "f = sp.Function('f')"
   ]
  },
  {
   "cell_type": "code",
   "execution_count": 42,
   "metadata": {},
   "outputs": [],
   "source": [
    "g = x**2 + y**2 + z**2"
   ]
  },
  {
   "cell_type": "code",
   "execution_count": 43,
   "metadata": {},
   "outputs": [
    {
     "data": {
      "image/png": "[encoded data removed]",
      "text/latex": [
       "$\\displaystyle x^{2} + y^{2} + z^{2}$"
      ],
      "text/plain": [
       " 2    2    2\n",
       "x  + y  + z "
      ]
     },
     "execution_count": 43,
     "metadata": {},
     "output_type": "execute_result"
    }
   ],
   "source": [
    "g"
   ]
  },
  {
   "cell_type": "code",
   "execution_count": 44,
   "metadata": {},
   "outputs": [
    {
     "name": "stdout",
     "output_type": "stream",
     "text": [
      " 2    2    2\n",
      "x  + y  + z \n"
     ]
    }
   ],
   "source": [
    "sp.pprint(g)"
   ]
  },
  {
   "cell_type": "code",
   "execution_count": 45,
   "metadata": {},
   "outputs": [],
   "source": [
    "h = x**2 + 2*x - 5"
   ]
  },
  {
   "cell_type": "code",
   "execution_count": 46,
   "metadata": {},
   "outputs": [
    {
     "data": {
      "image/png": "[encoded data removed]",
      "text/latex": [
       "$\\displaystyle x^{2} + 2 x - 5$"
      ],
      "text/plain": [
       " 2          \n",
       "x  + 2⋅x - 5"
      ]
     },
     "execution_count": 46,
     "metadata": {},
     "output_type": "execute_result"
    }
   ],
   "source": [
    "h"
   ]
  },
  {
   "cell_type": "code",
   "execution_count": 47,
   "metadata": {},
   "outputs": [
    {
     "name": "stdout",
     "output_type": "stream",
     "text": [
      "0.250000000000000\n"
     ]
    }
   ],
   "source": [
    "print(h.subs(x,1.5))"
   ]
  },
  {
   "cell_type": "code",
   "execution_count": 48,
   "metadata": {},
   "outputs": [
    {
     "data": {
      "image/png": "[encoded data removed]",
      "text/latex": [
       "$\\displaystyle z^{2} + 2 z - 5$"
      ],
      "text/plain": [
       " 2          \n",
       "z  + 2⋅z - 5"
      ]
     },
     "execution_count": 48,
     "metadata": {},
     "output_type": "execute_result"
    }
   ],
   "source": [
    "h.subs(x,z)"
   ]
  },
  {
   "cell_type": "code",
   "execution_count": 49,
   "metadata": {},
   "outputs": [
    {
     "data": {
      "image/png": "[encoded data removed]",
      "text/latex": [
       "$\\displaystyle y^{4} + 2 y^{2} - 5$"
      ],
      "text/plain": [
       " 4      2    \n",
       "y  + 2⋅y  - 5"
      ]
     },
     "execution_count": 49,
     "metadata": {},
     "output_type": "execute_result"
    }
   ],
   "source": [
    "h.subs(x,y**2)"
   ]
  },
  {
   "cell_type": "markdown",
   "metadata": {},
   "source": [
    "$$\\frac {x^2 - x - 6}{x^2 - 3x}$$"
   ]
  },
  {
   "cell_type": "code",
   "execution_count": 50,
   "metadata": {},
   "outputs": [],
   "source": [
    "f = (x**2 - x - 6)/(x**2 - 3*x)"
   ]
  },
  {
   "cell_type": "code",
   "execution_count": 51,
   "metadata": {},
   "outputs": [
    {
     "data": {
      "image/png": "[encoded data removed]",
      "text/latex": [
       "$\\displaystyle \\frac{x^{2} - x - 6}{x^{2} - 3 x}$"
      ],
      "text/plain": [
       " 2        \n",
       "x  - x - 6\n",
       "──────────\n",
       "  2       \n",
       " x  - 3⋅x "
      ]
     },
     "execution_count": 51,
     "metadata": {},
     "output_type": "execute_result"
    }
   ],
   "source": [
    "f"
   ]
  },
  {
   "cell_type": "code",
   "execution_count": 52,
   "metadata": {},
   "outputs": [
    {
     "data": {
      "image/png": "[encoded data removed]",
      "text/latex": [
       "$\\displaystyle \\frac{x + 2}{x}$"
      ],
      "text/plain": [
       "x + 2\n",
       "─────\n",
       "  x  "
      ]
     },
     "execution_count": 52,
     "metadata": {},
     "output_type": "execute_result"
    }
   ],
   "source": [
    "sp.simplify(f)"
   ]
  },
  {
   "cell_type": "code",
   "execution_count": 53,
   "metadata": {},
   "outputs": [],
   "source": [
    "f = ((x+1)**3)*((x-2)**2)"
   ]
  },
  {
   "cell_type": "code",
   "execution_count": 54,
   "metadata": {},
   "outputs": [
    {
     "data": {
      "image/png": "[encoded data removed]",
      "text/latex": [
       "$\\displaystyle \\left(x - 2\\right)^{2} \\left(x + 1\\right)^{3}$"
      ],
      "text/plain": [
       "       2        3\n",
       "(x - 2) ⋅(x + 1) "
      ]
     },
     "execution_count": 54,
     "metadata": {},
     "output_type": "execute_result"
    }
   ],
   "source": [
    "f"
   ]
  },
  {
   "cell_type": "code",
   "execution_count": 55,
   "metadata": {},
   "outputs": [
    {
     "data": {
      "image/png": "[encoded data removed]",
      "text/latex": [
       "$\\displaystyle x^{5} - x^{4} - 5 x^{3} + x^{2} + 8 x + 4$"
      ],
      "text/plain": [
       " 5    4      3    2          \n",
       "x  - x  - 5⋅x  + x  + 8⋅x + 4"
      ]
     },
     "execution_count": 55,
     "metadata": {},
     "output_type": "execute_result"
    }
   ],
   "source": [
    "sp.expand(f)"
   ]
  },
  {
   "cell_type": "code",
   "execution_count": 56,
   "metadata": {},
   "outputs": [],
   "source": [
    "f = 3*x**4 - 36*x**3 + 99*x**2 - 6*x - 144"
   ]
  },
  {
   "cell_type": "code",
   "execution_count": 57,
   "metadata": {},
   "outputs": [
    {
     "data": {
      "image/png": "[encoded data removed]",
      "text/latex": [
       "$\\displaystyle 3 \\left(x - 8\\right) \\left(x - 3\\right) \\left(x - 2\\right) \\left(x + 1\\right)$"
      ],
      "text/plain": [
       "3⋅(x - 8)⋅(x - 3)⋅(x - 2)⋅(x + 1)"
      ]
     },
     "execution_count": 57,
     "metadata": {},
     "output_type": "execute_result"
    }
   ],
   "source": [
    "sp.factor(f)"
   ]
  },
  {
   "cell_type": "code",
   "execution_count": 10,
   "metadata": {},
   "outputs": [
    {
     "data": {
      "text/latex": [
       "$\\displaystyle \\frac{3}{7}$"
      ],
      "text/plain": [
       "3/7"
      ]
     },
     "execution_count": 10,
     "metadata": {},
     "output_type": "execute_result"
    }
   ],
   "source": [
    "sp.Rational(12,28)"
   ]
  },
  {
   "cell_type": "code",
   "execution_count": null,
   "metadata": {},
   "outputs": [],
   "source": []
  }
 ],
 "metadata": {
  "kernelspec": {
   "display_name": "Python 3",
   "language": "python",
   "name": "python3"
  },
  "language_info": {
   "codemirror_mode": {
    "name": "ipython",
    "version": 3
   },
   "file_extension": ".py",
   "mimetype": "text/x-python",
   "name": "python",
   "nbconvert_exporter": "python",
   "pygments_lexer": "ipython3",
   "version": "3.7.11"
  }
 },
 "nbformat": 4,
 "nbformat_minor": 4
}
