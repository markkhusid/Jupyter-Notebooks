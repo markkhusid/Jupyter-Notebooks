{
 "cells": [
  {
   "cell_type": "code",
   "execution_count": 1,
   "metadata": {},
   "outputs": [
    {
     "data": {
      "text/plain": [
       "8"
      ]
     },
     "execution_count": 1,
     "metadata": {},
     "output_type": "execute_result"
    }
   ],
   "source": [
    "integer :: i\n",
    "integer :: j\n",
    "i = 5\n",
    "j = 3\n",
    "i + j"
   ]
  },
  {
   "cell_type": "code",
   "execution_count": 6,
   "metadata": {},
   "outputs": [
    {
     "name": "stdout",
     "output_type": "stream",
     "text": [
      "variable i = 1 \n",
      "variable i = 2 \n",
      "variable i = 4 \n"
     ]
    }
   ],
   "source": [
    "integer :: i\n",
    "do i = 1, 4\n",
    "    if (i == 3) cycle\n",
    "    print *, \"variable i =\", i\n",
    "end do"
   ]
  },
  {
   "cell_type": "code",
   "execution_count": null,
   "metadata": {},
   "outputs": [],
   "source": [
    "integer :: i, tmp\n",
    "do i = 1, 4\n",
    "    tmp = plot(1, i+1, 1)\n",
    "end do\n",
    "show()"
   ]
  },
  {
   "cell_type": "code",
   "execution_count": null,
   "metadata": {},
   "outputs": [],
   "source": []
  }
 ],
 "metadata": {
  "kernelspec": {
   "display_name": "Fortran (lfortran 0.1)",
   "language": "fortran",
   "name": "fortran"
  },
  "language_info": {
   "file_extension": ".f90",
   "mimetype": "text/x-fortran",
   "name": "fortran",
   "version": "0.1"
  }
 },
 "nbformat": 4,
 "nbformat_minor": 4
}
