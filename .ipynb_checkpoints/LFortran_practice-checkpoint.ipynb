{
 "cells": [
  {
   "cell_type": "code",
   "execution_count": 1,
   "metadata": {
    "execution": {
     "iopub.execute_input": "2024-08-25T16:36:45.737150Z",
     "iopub.status.busy": "2024-08-25T16:36:45.737049Z",
     "iopub.status.idle": "2024-08-25T16:36:45.744423Z",
     "shell.execute_reply": "2024-08-25T16:36:45.742122Z",
     "shell.execute_reply.started": "2024-08-25T16:36:45.742112Z"
    }
   },
   "outputs": [
    {
     "data": {
      "text/plain": [
       "8"
      ]
     },
     "execution_count": 1,
     "metadata": {},
     "output_type": "execute_result"
    }
   ],
   "source": [
    "integer :: i\n",
    "integer :: j\n",
    "i = 5\n",
    "j = 3\n",
    "i + j"
   ]
  },
  {
   "cell_type": "code",
   "execution_count": null,
   "metadata": {},
   "outputs": [],
   "source": []
  },
  {
   "cell_type": "code",
   "execution_count": 2,
   "metadata": {
    "execution": {
     "iopub.execute_input": "2024-08-25T16:36:48.116319Z",
     "iopub.status.busy": "2024-08-25T16:36:48.116121Z",
     "iopub.status.idle": "2024-08-25T16:36:48.123319Z",
     "shell.execute_reply": "2024-08-25T16:36:48.123267Z",
     "shell.execute_reply.started": "2024-08-25T16:36:48.123230Z"
    }
   },
   "outputs": [
    {
     "name": "stdout",
     "output_type": "stream",
     "text": [
      "variable i =     1\n",
      "variable i =     2\n",
      "variable i =     4\n"
     ]
    }
   ],
   "source": [
    "do i = 1, 4\n",
    "    if (i == 3) cycle\n",
    "    print *, \"variable i = \", i\n",
    "end do"
   ]
  },
  {
   "cell_type": "code",
   "execution_count": null,
   "metadata": {
    "execution": {
     "execution_failed": "2024-08-25T16:37:11.713Z",
     "iopub.execute_input": "2024-08-25T16:37:09.215026Z",
     "iopub.status.busy": "2024-08-25T16:37:09.214872Z"
    }
   },
   "outputs": [],
   "source": [
    "do i = 1, 4\n",
    "    tmp = plot(1, i+1, 1)\n",
    "end do\n",
    "show()"
   ]
  },
  {
   "cell_type": "code",
   "execution_count": null,
   "metadata": {},
   "outputs": [],
   "source": []
  }
 ],
 "metadata": {
  "kernelspec": {
   "display_name": "Fortran",
   "language": "fortran",
   "name": "fortran"
  },
  "language_info": {
   "file_extension": ".f90",
   "mimetype": "text/x-fortran",
   "name": "fortran",
   "version": "2018"
  }
 },
 "nbformat": 4,
 "nbformat_minor": 4
}
