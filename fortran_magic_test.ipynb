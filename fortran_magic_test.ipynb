{
 "cells": [
  {
   "cell_type": "code",
   "execution_count": 1,
   "id": "0fae1f20-1f47-46ad-ad18-dc170f645209",
   "metadata": {},
   "outputs": [],
   "source": [
    "%%capture\n",
    "%%writefile test.f90\n",
    "program test\n",
    "    implicit none\n",
    "    print *, \"Hello world!\"\n",
    "    print *, \"Another line\"\n",
    "end program test"
   ]
  },
  {
   "cell_type": "code",
   "execution_count": 2,
   "id": "d41fe730-84fb-451a-a0c3-9f8bb5102525",
   "metadata": {},
   "outputs": [
    {
     "name": "stdout",
     "output_type": "stream",
     "text": [
      "\u001b[38;5;238m───────┬────────────────────────────────────────────────────────────────────────\u001b[0m\n",
      "       \u001b[38;5;238m│ \u001b[0mFile: \u001b[1mtest.f90\u001b[0m\n",
      "\u001b[38;5;238m───────┼────────────────────────────────────────────────────────────────────────\u001b[0m\n",
      "\u001b[38;5;238m   1\u001b[0m   \u001b[38;5;238m│\u001b[0m \u001b[38;2;249;38;114mprogram\u001b[0m\u001b[38;2;248;248;242m \u001b[0m\u001b[38;2;166;226;46mtest\u001b[0m\n",
      "\u001b[38;5;238m   2\u001b[0m   \u001b[38;5;238m│\u001b[0m \u001b[38;2;248;248;242m    \u001b[0m\u001b[38;2;249;38;114mimplicit\u001b[0m\u001b[38;2;248;248;242m \u001b[0m\u001b[38;2;249;38;114mnone\u001b[0m\n",
      "\u001b[38;5;238m   3\u001b[0m   \u001b[38;5;238m│\u001b[0m \u001b[38;2;248;248;242m    \u001b[0m\u001b[38;2;102;217;239mprint\u001b[0m\u001b[38;2;248;248;242m \u001b[0m\u001b[38;2;248;248;242m*\u001b[0m\u001b[38;2;248;248;242m, \u001b[0m\u001b[38;2;230;219;116m\"Hello world!\"\u001b[0m\n",
      "\u001b[38;5;238m   4\u001b[0m   \u001b[38;5;238m│\u001b[0m \u001b[38;2;248;248;242m    \u001b[0m\u001b[38;2;102;217;239mprint\u001b[0m\u001b[38;2;248;248;242m \u001b[0m\u001b[38;2;248;248;242m*\u001b[0m\u001b[38;2;248;248;242m, \u001b[0m\u001b[38;2;230;219;116m\"Another line\"\u001b[0m\n",
      "\u001b[38;5;238m   5\u001b[0m   \u001b[38;5;238m│\u001b[0m \u001b[38;2;249;38;114mend\u001b[0m\u001b[38;2;248;248;242m \u001b[0m\u001b[38;2;249;38;114mprogram\u001b[0m\u001b[38;2;248;248;242m \u001b[0m\u001b[38;2;166;226;46mtest\u001b[0m\n",
      "\u001b[38;5;238m───────┴────────────────────────────────────────────────────────────────────────\u001b[0m\n"
     ]
    }
   ],
   "source": [
    "!bat test.f90"
   ]
  },
  {
   "cell_type": "code",
   "execution_count": 3,
   "id": "ecf43d34-95f8-4a31-85eb-eb2198bf4a80",
   "metadata": {},
   "outputs": [],
   "source": [
    "!gfortran test.f90 -o test"
   ]
  },
  {
   "cell_type": "code",
   "execution_count": 4,
   "id": "ed5f0c20-90da-458c-8f14-229f0f6aefd1",
   "metadata": {},
   "outputs": [
    {
     "name": "stdout",
     "output_type": "stream",
     "text": [
      " Hello world!\n",
      " Another line\n"
     ]
    }
   ],
   "source": [
    "!./test"
   ]
  },
  {
   "cell_type": "code",
   "execution_count": 5,
   "id": "6a262400-341b-4bd0-8127-23595cc6d667",
   "metadata": {},
   "outputs": [],
   "source": [
    "%%capture\n",
    "%%writefile test2.f90\n",
    "subroutine f1(x, y, z)\n",
    "    real, intent(in) :: x,y\n",
    "    real, intent(out) :: z\n",
    "\n",
    "    z = sin(x+y)\n",
    "\n",
    "end subroutine f1"
   ]
  },
  {
   "cell_type": "code",
   "execution_count": 6,
   "id": "eada007b-c477-4402-b896-be89d5f5c543",
   "metadata": {},
   "outputs": [
    {
     "name": "stdout",
     "output_type": "stream",
     "text": [
      "\u001b[38;5;238m───────┬────────────────────────────────────────────────────────────────────────\u001b[0m\n",
      "       \u001b[38;5;238m│ \u001b[0mFile: \u001b[1mtest2.f90\u001b[0m\n",
      "\u001b[38;5;238m───────┼────────────────────────────────────────────────────────────────────────\u001b[0m\n",
      "\u001b[38;5;238m   1\u001b[0m   \u001b[38;5;238m│\u001b[0m \u001b[38;2;249;38;114msubroutine\u001b[0m\u001b[38;2;248;248;242m \u001b[0m\u001b[38;2;166;226;46mf1\u001b[0m\u001b[38;2;248;248;242m(\u001b[0m\u001b[38;2;253;151;31mx\u001b[0m\u001b[38;2;248;248;242m, \u001b[0m\u001b[38;2;253;151;31my\u001b[0m\u001b[38;2;248;248;242m, \u001b[0m\u001b[38;2;253;151;31mz\u001b[0m\u001b[38;2;248;248;242m)\u001b[0m\n",
      "\u001b[38;5;238m   2\u001b[0m   \u001b[38;5;238m│\u001b[0m \u001b[38;2;248;248;242m    real, \u001b[0m\u001b[38;2;248;248;242mintent\u001b[0m\u001b[38;2;248;248;242m(\u001b[0m\u001b[38;2;248;248;242min\u001b[0m\u001b[38;2;248;248;242m)\u001b[0m\u001b[38;2;248;248;242m \u001b[0m\u001b[38;2;249;38;114m::\u001b[0m\u001b[38;2;248;248;242m x,y\u001b[0m\n",
      "\u001b[38;5;238m   3\u001b[0m   \u001b[38;5;238m│\u001b[0m \u001b[38;2;248;248;242m    real, \u001b[0m\u001b[38;2;248;248;242mintent\u001b[0m\u001b[38;2;248;248;242m(\u001b[0m\u001b[38;2;248;248;242mout\u001b[0m\u001b[38;2;248;248;242m)\u001b[0m\u001b[38;2;248;248;242m \u001b[0m\u001b[38;2;249;38;114m::\u001b[0m\u001b[38;2;248;248;242m z\u001b[0m\n",
      "\u001b[38;5;238m   4\u001b[0m   \u001b[38;5;238m│\u001b[0m \n",
      "\u001b[38;5;238m   5\u001b[0m   \u001b[38;5;238m│\u001b[0m \u001b[38;2;248;248;242m    z \u001b[0m\u001b[38;2;249;38;114m=\u001b[0m\u001b[38;2;248;248;242m \u001b[0m\u001b[38;2;102;217;239msin\u001b[0m\u001b[38;2;248;248;242m(\u001b[0m\u001b[38;2;248;248;242mx\u001b[0m\u001b[38;2;249;38;114m+\u001b[0m\u001b[38;2;248;248;242my\u001b[0m\u001b[38;2;248;248;242m)\u001b[0m\n",
      "\u001b[38;5;238m   6\u001b[0m   \u001b[38;5;238m│\u001b[0m \n",
      "\u001b[38;5;238m   7\u001b[0m   \u001b[38;5;238m│\u001b[0m \u001b[38;2;249;38;114mend\u001b[0m\u001b[38;2;248;248;242m \u001b[0m\u001b[38;2;249;38;114msubroutine\u001b[0m\u001b[38;2;248;248;242m \u001b[0m\u001b[38;2;166;226;46mf1\u001b[0m\n",
      "\u001b[38;5;238m───────┴────────────────────────────────────────────────────────────────────────\u001b[0m\n"
     ]
    }
   ],
   "source": [
    "!bat test2.f90"
   ]
  },
  {
   "cell_type": "code",
   "execution_count": 7,
   "id": "d9576916-0673-4ce9-99d2-37ae1cbe423c",
   "metadata": {},
   "outputs": [],
   "source": [
    "%%capture\n",
    "!f2py -m f1 -c test2.f90"
   ]
  },
  {
   "cell_type": "code",
   "execution_count": 8,
   "id": "7a0ef8d5-a1a3-41e6-aa46-f48682729c91",
   "metadata": {},
   "outputs": [
    {
     "name": "stdout",
     "output_type": "stream",
     "text": [
      ".\u001b[1;33mr\u001b[31mw\u001b[4;32mx\u001b[0m\u001b[33mr\u001b[38;5;244m-\u001b[32mx\u001b[33mr\u001b[38;5;244m-\u001b[32mx\u001b[0m \u001b[1;32m42\u001b[0m\u001b[32mk\u001b[0m \u001b[1;33mhaxor\u001b[0m \u001b[34m17 Dec 16:35\u001b[0m \u001b[1;32mf1.cpython-39-x86_64-linux-gnu.so\u001b[0m\n"
     ]
    }
   ],
   "source": [
    "!exa -la f1*"
   ]
  },
  {
   "cell_type": "code",
   "execution_count": 9,
   "id": "58d88886-37f3-42f5-b7db-21a6a68ac740",
   "metadata": {},
   "outputs": [],
   "source": [
    "import f1"
   ]
  },
  {
   "cell_type": "code",
   "execution_count": 10,
   "id": "a8c2693d-85c5-4ed5-9307-a1997ee06c3a",
   "metadata": {},
   "outputs": [
    {
     "data": {
      "text/plain": [
       "['__doc__',\n",
       " '__f2py_numpy_version__',\n",
       " '__file__',\n",
       " '__loader__',\n",
       " '__name__',\n",
       " '__package__',\n",
       " '__spec__',\n",
       " '__version__',\n",
       " '_f1_error',\n",
       " 'f1']"
      ]
     },
     "execution_count": 10,
     "metadata": {},
     "output_type": "execute_result"
    }
   ],
   "source": [
    "dir(f1)"
   ]
  },
  {
   "cell_type": "code",
   "execution_count": 11,
   "id": "d7466f5d-4a21-4dce-9c4c-4a9f99db8e0e",
   "metadata": {},
   "outputs": [],
   "source": [
    "var = f1.f1(2, 3)"
   ]
  },
  {
   "cell_type": "code",
   "execution_count": 12,
   "id": "12660e9e-b5b3-487f-aa94-2743a2b8c835",
   "metadata": {},
   "outputs": [
    {
     "data": {
      "text/plain": [
       "-0.9589242935180664"
      ]
     },
     "execution_count": 12,
     "metadata": {},
     "output_type": "execute_result"
    }
   ],
   "source": [
    "var"
   ]
  },
  {
   "cell_type": "code",
   "execution_count": 19,
   "id": "49a4535a-c9e4-4e30-9951-40678e4d6676",
   "metadata": {},
   "outputs": [
    {
     "data": {
      "application/javascript": [
       "new Promise(function(resolve, reject) {\n",
       "\tvar script = document.createElement(\"script\");\n",
       "\tscript.onload = resolve;\n",
       "\tscript.onerror = reject;\n",
       "\tscript.src = \"https://raw.github.com/marijnh/CodeMirror/master/mode/fortran/fortran.js\";\n",
       "\tdocument.head.appendChild(script);\n",
       "}).then(() => {\n",
       "IPython.config.cell_magic_highlight['magic_fortran'] = {'reg':[/^%%fortran/]};\n",
       "});"
      ]
     },
     "metadata": {},
     "output_type": "display_data"
    }
   ],
   "source": [
    "%load_ext fortranmagic"
   ]
  },
  {
   "cell_type": "code",
   "execution_count": 21,
   "id": "a310e51e-c2fd-463d-a4d3-8231908dd725",
   "metadata": {},
   "outputs": [],
   "source": [
    "%%fortran\n",
    "subroutine f2(x, y, z)\n",
    "    real, intent(in) :: x,y\n",
    "    real, intent(out) :: z\n",
    "\n",
    "    z = sin(x+y)\n",
    "\n",
    "end subroutine f2"
   ]
  },
  {
   "cell_type": "code",
   "execution_count": 22,
   "id": "089745b2-1332-4caf-aa53-36a867bdbb2c",
   "metadata": {},
   "outputs": [
    {
     "data": {
      "text/plain": [
       "0.14112000167369843"
      ]
     },
     "execution_count": 22,
     "metadata": {},
     "output_type": "execute_result"
    }
   ],
   "source": [
    "f2(1, 2)"
   ]
  },
  {
   "cell_type": "code",
   "execution_count": null,
   "id": "d812adbb-d8ed-4a22-a61b-f0580747ed27",
   "metadata": {},
   "outputs": [],
   "source": []
  }
 ],
 "metadata": {
  "kernelspec": {
   "display_name": "Python 3 (ipykernel)",
   "language": "python",
   "name": "python3"
  },
  "language_info": {
   "codemirror_mode": {
    "name": "ipython",
    "version": 3
   },
   "file_extension": ".py",
   "mimetype": "text/x-python",
   "name": "python",
   "nbconvert_exporter": "python",
   "pygments_lexer": "ipython3",
   "version": "3.9.15"
  }
 },
 "nbformat": 4,
 "nbformat_minor": 5
}
