{
 "cells": [
  {
   "cell_type": "code",
   "execution_count": 3,
   "id": "0ab7a4fb-bda1-4650-970e-bbff7d2c9faf",
   "metadata": {},
   "outputs": [
    {
     "name": "stdout",
     "output_type": "stream",
     "text": [
      " Vertex    Distance from Source\n",
      "           1                      0\n",
      "           2                      1\n",
      "           3                      3\n",
      "           4                      4\n"
     ]
    }
   ],
   "source": [
    "%compiler: gfortran\n",
    "! Path: /src/dijkstra.f90\n",
    "! This is a Fortran program implementing Dijkstra's algorithm for shortest path\n",
    "\n",
    "program dijkstra\n",
    "    implicit none\n",
    "    integer, parameter :: n = 4\n",
    "    integer :: i, j, start_vertex\n",
    "    integer :: graph(n, n)\n",
    "    integer :: distances(n), visited(n)\n",
    "    integer :: current_vertex, min_distance, next_vertex\n",
    "\n",
    "    ! Initialize graph with adjacency matrix\n",
    "    ! Use 9999 to represent infinity\n",
    "    graph = reshape((/ 0,    1,    9999, 9999, &\n",
    "                       1,    0,    2   , 9999, &\n",
    "                       9999, 2,    0,    1, &\n",
    "                       9999, 9999, 1,    0 /), shape(graph))\n",
    "\n",
    "    ! Initialize distances and visited arrays\n",
    "    distances = 9999\n",
    "    visited = 0\n",
    "\n",
    "    ! Set the start vertex\n",
    "    start_vertex = 1\n",
    "\n",
    "    ! Distance from start vertex to itself is 0\n",
    "    distances(start_vertex) = 0\n",
    "\n",
    "    ! Dijkstra's algorithm\n",
    "    do i = 1, n\n",
    "        ! Find the vertex with the minimum distance value\n",
    "        min_distance = 9999\n",
    "        do j = 1, n\n",
    "            if (visited(j) == 0 .and. distances(j) < min_distance) then\n",
    "                min_distance = distances(j)\n",
    "                current_vertex = j\n",
    "            end if\n",
    "        end do\n",
    "\n",
    "        ! Mark the current vertex as visited\n",
    "        visited(current_vertex) = 1\n",
    "\n",
    "        ! Update distances of adjacent vertices\n",
    "        do j = 1, n\n",
    "            if (visited(j) == 0 .and. graph(current_vertex, j) /= 9999) then\n",
    "                if (distances(current_vertex) + graph(current_vertex, j) < distances(j)) then\n",
    "                    distances(j) = distances(current_vertex) + graph(current_vertex, j)\n",
    "                end if\n",
    "            end if\n",
    "        end do\n",
    "    end do\n",
    "\n",
    "    ! Print the shortest distances\n",
    "    print *, \"Vertex    Distance from Source\"\n",
    "    do i = 1, n\n",
    "        print *, i, \"          \", distances(i)\n",
    "    end do\n",
    "\n",
    "end program dijkstra"
   ]
  },
  {
   "cell_type": "code",
   "execution_count": null,
   "id": "b583d59f-6ac9-4c0f-bcca-0239458b8524",
   "metadata": {},
   "outputs": [],
   "source": []
  }
 ],
 "metadata": {
  "kernelspec": {
   "display_name": "intel fortran",
   "language": "Fortran",
   "name": "ifort_spec"
  },
  "language_info": {
   "file_extension": "f90",
   "mimetype": "text/plain",
   "name": "fortran"
  }
 },
 "nbformat": 4,
 "nbformat_minor": 5
}
