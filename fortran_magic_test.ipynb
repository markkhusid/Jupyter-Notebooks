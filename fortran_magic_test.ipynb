{
 "cells": [
  {
   "cell_type": "code",
   "execution_count": 1,
   "id": "0fae1f20-1f47-46ad-ad18-dc170f645209",
   "metadata": {
    "execution": {
     "iopub.execute_input": "2024-08-16T19:54:35.892153Z",
     "iopub.status.busy": "2024-08-16T19:54:35.890823Z",
     "iopub.status.idle": "2024-08-16T19:54:35.902460Z",
     "shell.execute_reply": "2024-08-16T19:54:35.901540Z",
     "shell.execute_reply.started": "2024-08-16T19:54:35.892124Z"
    }
   },
   "outputs": [],
   "source": [
    "%%capture\n",
    "%%writefile test.f90\n",
    "program test\n",
    "    implicit none\n",
    "    print *, \"Hello world!\"\n",
    "    print *, \"Another line\"\n",
    "end program test"
   ]
  },
  {
   "cell_type": "code",
   "execution_count": 2,
   "id": "d41fe730-84fb-451a-a0c3-9f8bb5102525",
   "metadata": {
    "execution": {
     "iopub.execute_input": "2024-08-16T19:54:39.677474Z",
     "iopub.status.busy": "2024-08-16T19:54:39.677171Z",
     "iopub.status.idle": "2024-08-16T19:54:39.998069Z",
     "shell.execute_reply": "2024-08-16T19:54:39.995883Z",
     "shell.execute_reply.started": "2024-08-16T19:54:39.677457Z"
    }
   },
   "outputs": [
    {
     "name": "stdout",
     "output_type": "stream",
     "text": [
      "\u001b[38;5;238m───────┬────────────────────────────────────────────────────────────────────────\u001b[0m\n",
      "       \u001b[38;5;238m│ \u001b[0mFile: \u001b[1mtest.f90\u001b[0m\n",
      "\u001b[38;5;238m───────┼────────────────────────────────────────────────────────────────────────\u001b[0m\n",
      "\u001b[38;5;238m   1\u001b[0m   \u001b[38;5;238m│\u001b[0m \u001b[38;2;249;38;114mprogram\u001b[0m\u001b[38;2;248;248;242m \u001b[0m\u001b[38;2;166;226;46mtest\u001b[0m\n",
      "\u001b[38;5;238m   2\u001b[0m   \u001b[38;5;238m│\u001b[0m \u001b[38;2;248;248;242m    \u001b[0m\u001b[38;2;249;38;114mimplicit\u001b[0m\u001b[38;2;248;248;242m \u001b[0m\u001b[38;2;249;38;114mnone\u001b[0m\n",
      "\u001b[38;5;238m   3\u001b[0m   \u001b[38;5;238m│\u001b[0m \u001b[38;2;248;248;242m    \u001b[0m\u001b[38;2;102;217;239mprint\u001b[0m\u001b[38;2;248;248;242m \u001b[0m\u001b[38;2;248;248;242m*\u001b[0m\u001b[38;2;248;248;242m, \u001b[0m\u001b[38;2;230;219;116m\"Hello world!\"\u001b[0m\n",
      "\u001b[38;5;238m   4\u001b[0m   \u001b[38;5;238m│\u001b[0m \u001b[38;2;248;248;242m    \u001b[0m\u001b[38;2;102;217;239mprint\u001b[0m\u001b[38;2;248;248;242m \u001b[0m\u001b[38;2;248;248;242m*\u001b[0m\u001b[38;2;248;248;242m, \u001b[0m\u001b[38;2;230;219;116m\"Another line\"\u001b[0m\n",
      "\u001b[38;5;238m   5\u001b[0m   \u001b[38;5;238m│\u001b[0m \u001b[38;2;249;38;114mend\u001b[0m\u001b[38;2;248;248;242m \u001b[0m\u001b[38;2;249;38;114mprogram\u001b[0m\u001b[38;2;248;248;242m \u001b[0m\u001b[38;2;166;226;46mtest\u001b[0m\n",
      "\u001b[38;5;238m───────┴────────────────────────────────────────────────────────────────────────\u001b[0m\n"
     ]
    }
   ],
   "source": [
    "!bat test.f90"
   ]
  },
  {
   "cell_type": "code",
   "execution_count": 3,
   "id": "ecf43d34-95f8-4a31-85eb-eb2198bf4a80",
   "metadata": {
    "execution": {
     "iopub.execute_input": "2024-08-16T19:54:42.107282Z",
     "iopub.status.busy": "2024-08-16T19:54:42.106893Z",
     "iopub.status.idle": "2024-08-16T19:54:42.637770Z",
     "shell.execute_reply": "2024-08-16T19:54:42.636444Z",
     "shell.execute_reply.started": "2024-08-16T19:54:42.107240Z"
    }
   },
   "outputs": [],
   "source": [
    "!gfortran test.f90 -o test"
   ]
  },
  {
   "cell_type": "code",
   "execution_count": 4,
   "id": "ed5f0c20-90da-458c-8f14-229f0f6aefd1",
   "metadata": {
    "execution": {
     "iopub.execute_input": "2024-08-16T19:54:44.472339Z",
     "iopub.status.busy": "2024-08-16T19:54:44.471891Z",
     "iopub.status.idle": "2024-08-16T19:54:44.685416Z",
     "shell.execute_reply": "2024-08-16T19:54:44.684360Z",
     "shell.execute_reply.started": "2024-08-16T19:54:44.472318Z"
    }
   },
   "outputs": [
    {
     "name": "stdout",
     "output_type": "stream",
     "text": [
      " Hello world!\n",
      " Another line\n"
     ]
    }
   ],
   "source": [
    "!./test"
   ]
  },
  {
   "cell_type": "code",
   "execution_count": 5,
   "id": "6a262400-341b-4bd0-8127-23595cc6d667",
   "metadata": {
    "execution": {
     "iopub.execute_input": "2024-08-16T19:54:46.672741Z",
     "iopub.status.busy": "2024-08-16T19:54:46.672373Z",
     "iopub.status.idle": "2024-08-16T19:54:46.680377Z",
     "shell.execute_reply": "2024-08-16T19:54:46.679413Z",
     "shell.execute_reply.started": "2024-08-16T19:54:46.672721Z"
    }
   },
   "outputs": [],
   "source": [
    "%%capture\n",
    "%%writefile test2.f90\n",
    "subroutine f1(x, y, z)\n",
    "    real, intent(in) :: x,y\n",
    "    real, intent(out) :: z\n",
    "\n",
    "    z = sin(x+y)\n",
    "\n",
    "end subroutine f1"
   ]
  },
  {
   "cell_type": "code",
   "execution_count": 6,
   "id": "eada007b-c477-4402-b896-be89d5f5c543",
   "metadata": {
    "execution": {
     "iopub.execute_input": "2024-08-16T19:54:47.554727Z",
     "iopub.status.busy": "2024-08-16T19:54:47.554400Z",
     "iopub.status.idle": "2024-08-16T19:54:47.781400Z",
     "shell.execute_reply": "2024-08-16T19:54:47.778756Z",
     "shell.execute_reply.started": "2024-08-16T19:54:47.554707Z"
    }
   },
   "outputs": [
    {
     "name": "stdout",
     "output_type": "stream",
     "text": [
      "\u001b[38;5;238m───────┬────────────────────────────────────────────────────────────────────────\u001b[0m\n",
      "       \u001b[38;5;238m│ \u001b[0mFile: \u001b[1mtest2.f90\u001b[0m\n",
      "\u001b[38;5;238m───────┼────────────────────────────────────────────────────────────────────────\u001b[0m\n",
      "\u001b[38;5;238m   1\u001b[0m   \u001b[38;5;238m│\u001b[0m \u001b[38;2;249;38;114msubroutine\u001b[0m\u001b[38;2;248;248;242m \u001b[0m\u001b[38;2;166;226;46mf1\u001b[0m\u001b[38;2;248;248;242m(\u001b[0m\u001b[38;2;253;151;31mx\u001b[0m\u001b[38;2;248;248;242m, \u001b[0m\u001b[38;2;253;151;31my\u001b[0m\u001b[38;2;248;248;242m, \u001b[0m\u001b[38;2;253;151;31mz\u001b[0m\u001b[38;2;248;248;242m)\u001b[0m\n",
      "\u001b[38;5;238m   2\u001b[0m   \u001b[38;5;238m│\u001b[0m \u001b[38;2;248;248;242m    real, \u001b[0m\u001b[38;2;248;248;242mintent\u001b[0m\u001b[38;2;248;248;242m(\u001b[0m\u001b[38;2;248;248;242min\u001b[0m\u001b[38;2;248;248;242m)\u001b[0m\u001b[38;2;248;248;242m \u001b[0m\u001b[38;2;249;38;114m::\u001b[0m\u001b[38;2;248;248;242m x,y\u001b[0m\n",
      "\u001b[38;5;238m   3\u001b[0m   \u001b[38;5;238m│\u001b[0m \u001b[38;2;248;248;242m    real, \u001b[0m\u001b[38;2;248;248;242mintent\u001b[0m\u001b[38;2;248;248;242m(\u001b[0m\u001b[38;2;248;248;242mout\u001b[0m\u001b[38;2;248;248;242m)\u001b[0m\u001b[38;2;248;248;242m \u001b[0m\u001b[38;2;249;38;114m::\u001b[0m\u001b[38;2;248;248;242m z\u001b[0m\n",
      "\u001b[38;5;238m   4\u001b[0m   \u001b[38;5;238m│\u001b[0m \n",
      "\u001b[38;5;238m   5\u001b[0m   \u001b[38;5;238m│\u001b[0m \u001b[38;2;248;248;242m    z \u001b[0m\u001b[38;2;249;38;114m=\u001b[0m\u001b[38;2;248;248;242m \u001b[0m\u001b[38;2;102;217;239msin\u001b[0m\u001b[38;2;248;248;242m(\u001b[0m\u001b[38;2;248;248;242mx\u001b[0m\u001b[38;2;249;38;114m+\u001b[0m\u001b[38;2;248;248;242my\u001b[0m\u001b[38;2;248;248;242m)\u001b[0m\n",
      "\u001b[38;5;238m   6\u001b[0m   \u001b[38;5;238m│\u001b[0m \n",
      "\u001b[38;5;238m   7\u001b[0m   \u001b[38;5;238m│\u001b[0m \u001b[38;2;249;38;114mend\u001b[0m\u001b[38;2;248;248;242m \u001b[0m\u001b[38;2;249;38;114msubroutine\u001b[0m\u001b[38;2;248;248;242m \u001b[0m\u001b[38;2;166;226;46mf1\u001b[0m\n",
      "\u001b[38;5;238m───────┴────────────────────────────────────────────────────────────────────────\u001b[0m\n"
     ]
    }
   ],
   "source": [
    "!bat test2.f90"
   ]
  },
  {
   "cell_type": "code",
   "execution_count": 7,
   "id": "d9576916-0673-4ce9-99d2-37ae1cbe423c",
   "metadata": {
    "execution": {
     "iopub.execute_input": "2024-08-16T19:54:49.817677Z",
     "iopub.status.busy": "2024-08-16T19:54:49.817332Z",
     "iopub.status.idle": "2024-08-16T19:54:51.222099Z",
     "shell.execute_reply": "2024-08-16T19:54:51.221537Z",
     "shell.execute_reply.started": "2024-08-16T19:54:49.817656Z"
    }
   },
   "outputs": [],
   "source": [
    "%%capture\n",
    "!f2py -m f1 -c test2.f90"
   ]
  },
  {
   "cell_type": "code",
   "execution_count": 8,
   "id": "7a0ef8d5-a1a3-41e6-aa46-f48682729c91",
   "metadata": {
    "execution": {
     "iopub.execute_input": "2024-08-16T19:54:51.229514Z",
     "iopub.status.busy": "2024-08-16T19:54:51.229306Z",
     "iopub.status.idle": "2024-08-16T19:54:51.375077Z",
     "shell.execute_reply": "2024-08-16T19:54:51.374189Z",
     "shell.execute_reply.started": "2024-08-16T19:54:51.229498Z"
    }
   },
   "outputs": [
    {
     "name": "stdout",
     "output_type": "stream",
     "text": [
      ".\u001b[1;33mr\u001b[31mw\u001b[4;32mx\u001b[0m\u001b[33mr\u001b[38;5;244m-\u001b[32mx\u001b[33mr\u001b[38;5;244m-\u001b[32mx\u001b[0m \u001b[1;32m43\u001b[0m\u001b[32mk\u001b[0m \u001b[1;33mhaxor\u001b[0m \u001b[34m17 Dec  2022\u001b[0m \u001b[1;32mf1.cpython-39-x86_64-linux-gnu.so\u001b[0m\n",
      ".\u001b[1;33mr\u001b[31mw\u001b[4;32mx\u001b[0m\u001b[33mr\u001b[38;5;244m-\u001b[32mx\u001b[33mr\u001b[38;5;244m-\u001b[32mx\u001b[0m \u001b[1;32m44\u001b[0m\u001b[32mk\u001b[0m \u001b[1;33mhaxor\u001b[0m \u001b[34m16 Aug 15:54\u001b[0m \u001b[1;32mf1.cpython-310-x86_64-linux-gnu.so\u001b[0m\n"
     ]
    }
   ],
   "source": [
    "!exa -la f1*"
   ]
  },
  {
   "cell_type": "code",
   "execution_count": 9,
   "id": "58d88886-37f3-42f5-b7db-21a6a68ac740",
   "metadata": {
    "execution": {
     "iopub.execute_input": "2024-08-16T19:54:53.689961Z",
     "iopub.status.busy": "2024-08-16T19:54:53.689618Z",
     "iopub.status.idle": "2024-08-16T19:54:53.696667Z",
     "shell.execute_reply": "2024-08-16T19:54:53.695735Z",
     "shell.execute_reply.started": "2024-08-16T19:54:53.689943Z"
    }
   },
   "outputs": [],
   "source": [
    "import f1"
   ]
  },
  {
   "cell_type": "code",
   "execution_count": 10,
   "id": "a8c2693d-85c5-4ed5-9307-a1997ee06c3a",
   "metadata": {
    "execution": {
     "iopub.execute_input": "2024-08-16T19:54:56.450453Z",
     "iopub.status.busy": "2024-08-16T19:54:56.450145Z",
     "iopub.status.idle": "2024-08-16T19:54:56.457142Z",
     "shell.execute_reply": "2024-08-16T19:54:56.456506Z",
     "shell.execute_reply.started": "2024-08-16T19:54:56.450435Z"
    }
   },
   "outputs": [
    {
     "data": {
      "text/plain": [
       "['__doc__',\n",
       " '__f2py_numpy_version__',\n",
       " '__file__',\n",
       " '__loader__',\n",
       " '__name__',\n",
       " '__package__',\n",
       " '__spec__',\n",
       " '__version__',\n",
       " '_f1_error',\n",
       " 'f1']"
      ]
     },
     "execution_count": 10,
     "metadata": {},
     "output_type": "execute_result"
    }
   ],
   "source": [
    "dir(f1)"
   ]
  },
  {
   "cell_type": "code",
   "execution_count": 11,
   "id": "d7466f5d-4a21-4dce-9c4c-4a9f99db8e0e",
   "metadata": {
    "execution": {
     "iopub.execute_input": "2024-08-16T19:54:58.047423Z",
     "iopub.status.busy": "2024-08-16T19:54:58.047107Z",
     "iopub.status.idle": "2024-08-16T19:54:58.052342Z",
     "shell.execute_reply": "2024-08-16T19:54:58.051116Z",
     "shell.execute_reply.started": "2024-08-16T19:54:58.047402Z"
    }
   },
   "outputs": [],
   "source": [
    "var = f1.f1(2, 3)"
   ]
  },
  {
   "cell_type": "code",
   "execution_count": 12,
   "id": "12660e9e-b5b3-487f-aa94-2743a2b8c835",
   "metadata": {
    "execution": {
     "iopub.execute_input": "2024-08-16T19:54:59.301793Z",
     "iopub.status.busy": "2024-08-16T19:54:59.301392Z",
     "iopub.status.idle": "2024-08-16T19:54:59.328376Z",
     "shell.execute_reply": "2024-08-16T19:54:59.327965Z",
     "shell.execute_reply.started": "2024-08-16T19:54:59.301767Z"
    }
   },
   "outputs": [
    {
     "data": {
      "text/plain": [
       "-0.9589242935180664"
      ]
     },
     "execution_count": 12,
     "metadata": {},
     "output_type": "execute_result"
    }
   ],
   "source": [
    "var"
   ]
  },
  {
   "cell_type": "code",
   "execution_count": 13,
   "id": "49a4535a-c9e4-4e30-9951-40678e4d6676",
   "metadata": {
    "execution": {
     "iopub.execute_input": "2024-08-16T19:55:00.184665Z",
     "iopub.status.busy": "2024-08-16T19:55:00.183952Z",
     "iopub.status.idle": "2024-08-16T19:55:00.399999Z",
     "shell.execute_reply": "2024-08-16T19:55:00.398975Z",
     "shell.execute_reply.started": "2024-08-16T19:55:00.184621Z"
    }
   },
   "outputs": [
    {
     "data": {
      "application/javascript": [
       "\n",
       "        if(typeof IPython === 'undefined') {\n",
       "            console.log('fortranmagic.py: TDOO: JupyterLab ' +\n",
       "                        'syntax highlight - unimplemented.');\n",
       "        } else {\n",
       "            IPython.CodeCell.options_default\n",
       "            .highlight_modes['magic_fortran'] = {'reg':[/^%%fortran/]};\n",
       "        }\n",
       "        "
      ]
     },
     "metadata": {},
     "output_type": "display_data"
    }
   ],
   "source": [
    "%load_ext fortranmagic"
   ]
  },
  {
   "cell_type": "code",
   "execution_count": 14,
   "id": "a310e51e-c2fd-463d-a4d3-8231908dd725",
   "metadata": {
    "execution": {
     "iopub.execute_input": "2024-08-16T19:55:02.219727Z",
     "iopub.status.busy": "2024-08-16T19:55:02.219360Z",
     "iopub.status.idle": "2024-08-16T19:55:03.303404Z",
     "shell.execute_reply": "2024-08-16T19:55:03.302196Z",
     "shell.execute_reply.started": "2024-08-16T19:55:02.219705Z"
    }
   },
   "outputs": [],
   "source": [
    "%%fortran\n",
    "subroutine f2(x, y, z)\n",
    "    real, intent(in) :: x,y\n",
    "    real, intent(out) :: z\n",
    "\n",
    "    z = sin(x+y)\n",
    "\n",
    "end subroutine f2"
   ]
  },
  {
   "cell_type": "code",
   "execution_count": 15,
   "id": "089745b2-1332-4caf-aa53-36a867bdbb2c",
   "metadata": {
    "execution": {
     "iopub.execute_input": "2024-08-16T19:55:05.313342Z",
     "iopub.status.busy": "2024-08-16T19:55:05.313065Z",
     "iopub.status.idle": "2024-08-16T19:55:05.319019Z",
     "shell.execute_reply": "2024-08-16T19:55:05.318106Z",
     "shell.execute_reply.started": "2024-08-16T19:55:05.313323Z"
    }
   },
   "outputs": [
    {
     "data": {
      "text/plain": [
       "0.14112000167369843"
      ]
     },
     "execution_count": 15,
     "metadata": {},
     "output_type": "execute_result"
    }
   ],
   "source": [
    "f2(1, 2)"
   ]
  },
  {
   "cell_type": "code",
   "execution_count": null,
   "id": "20c8bf0f-6c20-413e-970f-26bbcb920372",
   "metadata": {},
   "outputs": [],
   "source": []
  }
 ],
 "metadata": {
  "kernelspec": {
   "display_name": "Python 3 (ipykernel)",
   "language": "python",
   "name": "python3"
  },
  "language_info": {
   "codemirror_mode": {
    "name": "ipython",
    "version": 3
   },
   "file_extension": ".py",
   "mimetype": "text/x-python",
   "name": "python",
   "nbconvert_exporter": "python",
   "pygments_lexer": "ipython3",
   "version": "3.10.14"
  }
 },
 "nbformat": 4,
 "nbformat_minor": 5
}
