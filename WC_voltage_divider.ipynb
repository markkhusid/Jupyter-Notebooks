{
 "cells": [
  {
   "cell_type": "code",
   "execution_count": 8,
   "metadata": {},
   "outputs": [
    {
     "name": "stdout",
     "output_type": "stream",
     "text": [
      "The original lists are : [['R1hi', 'R1nom', 'R1lo'], ['R2hi', 'R2nom', 'R2lo'], ['R3hi', 'R3nom', 'R3lo']]\n",
      "('R1hi', 'R2hi', 'R3hi')\n",
      "('R1hi', 'R2hi', 'R3nom')\n",
      "('R1hi', 'R2hi', 'R3lo')\n",
      "('R1hi', 'R2nom', 'R3hi')\n",
      "('R1hi', 'R2nom', 'R3nom')\n",
      "('R1hi', 'R2nom', 'R3lo')\n",
      "('R1hi', 'R2lo', 'R3hi')\n",
      "('R1hi', 'R2lo', 'R3nom')\n",
      "('R1hi', 'R2lo', 'R3lo')\n",
      "('R1nom', 'R2hi', 'R3hi')\n",
      "('R1nom', 'R2hi', 'R3nom')\n",
      "('R1nom', 'R2hi', 'R3lo')\n",
      "('R1nom', 'R2nom', 'R3hi')\n",
      "('R1nom', 'R2nom', 'R3nom')\n",
      "('R1nom', 'R2nom', 'R3lo')\n",
      "('R1nom', 'R2lo', 'R3hi')\n",
      "('R1nom', 'R2lo', 'R3nom')\n",
      "('R1nom', 'R2lo', 'R3lo')\n",
      "('R1lo', 'R2hi', 'R3hi')\n",
      "('R1lo', 'R2hi', 'R3nom')\n",
      "('R1lo', 'R2hi', 'R3lo')\n",
      "('R1lo', 'R2nom', 'R3hi')\n",
      "('R1lo', 'R2nom', 'R3nom')\n",
      "('R1lo', 'R2nom', 'R3lo')\n",
      "('R1lo', 'R2lo', 'R3hi')\n",
      "('R1lo', 'R2lo', 'R3nom')\n",
      "('R1lo', 'R2lo', 'R3lo')\n",
      "There are  27  items.\n"
     ]
    }
   ],
   "source": [
    "import itertools \n",
    "  \n",
    "# initializing list of list  \n",
    "all_list = [ [\"R1hi\", \"R1nom\", \"R1lo\"], [\"R2hi\", \"R2nom\", \"R2lo\"], [\"R3hi\", \"R3nom\", \"R3lo\"] ] \n",
    "  \n",
    "# printing lists  \n",
    "print (\"The original lists are : \" + str(all_list)) \n",
    "  \n",
    "# using itertools.product()   \n",
    "# to compute all possible permutations \n",
    "res = list(itertools.product(*all_list)) \n",
    "  \n",
    "# printing result \n",
    "counter = 0\n",
    "for i in res:\n",
    "    print (i)\n",
    "    counter += 1\n",
    "\n",
    "print (\"There are \", counter, \" items.\")"
   ]
  },
  {
   "cell_type": "code",
   "execution_count": 9,
   "metadata": {},
   "outputs": [
    {
     "name": "stdout",
     "output_type": "stream",
     "text": [
      "Help on module voltage_divider:\n",
      "\n",
      "NAME\n",
      "    voltage_divider\n",
      "\n",
      "DESCRIPTION\n",
      "    This module 'voltage_divider' is auto-generated with f2py (version:2).\n",
      "    Functions:\n",
      "      vout = voltage_divider(vin,r_array)\n",
      "    .\n",
      "\n",
      "DATA\n",
      "    voltage_divider = <fortran object>\n",
      "\n",
      "VERSION\n",
      "    b'$Revision: $'\n",
      "\n",
      "FILE\n",
      "    /home/ubuntu/Engineering/Programming/Fortran/voltage_divider.cpython-37m-x86_64-linux-gnu.so\n",
      "\n",
      "\n"
     ]
    }
   ],
   "source": [
    "import voltage_divider\n",
    "help(voltage_divider)"
   ]
  },
  {
   "cell_type": "markdown",
   "metadata": {},
   "source": [
    "Assign nominal values to resistors"
   ]
  },
  {
   "cell_type": "code",
   "execution_count": 10,
   "metadata": {},
   "outputs": [],
   "source": [
    "R1nom = 1000\n",
    "R2nom = 1000\n",
    "R3nom = 1000"
   ]
  },
  {
   "cell_type": "markdown",
   "metadata": {},
   "source": [
    "Assign resistor tolerance (1%)"
   ]
  },
  {
   "cell_type": "code",
   "execution_count": 11,
   "metadata": {},
   "outputs": [],
   "source": [
    "Rtol = 0.01"
   ]
  },
  {
   "cell_type": "markdown",
   "metadata": {},
   "source": [
    "Create lists of resistor tolerance bands"
   ]
  },
  {
   "cell_type": "code",
   "execution_count": 12,
   "metadata": {},
   "outputs": [],
   "source": [
    "R1hi = R1nom*(1+Rtol)\n",
    "R2hi = R2nom*(1+Rtol)\n",
    "R3hi = R3nom*(1+Rtol)"
   ]
  },
  {
   "cell_type": "code",
   "execution_count": 13,
   "metadata": {},
   "outputs": [],
   "source": [
    "R1lo = R1nom*(1-Rtol)\n",
    "R2lo = R2nom*(1-Rtol)\n",
    "R3lo = R3nom*(1-Rtol)"
   ]
  },
  {
   "cell_type": "code",
   "execution_count": 14,
   "metadata": {},
   "outputs": [
    {
     "name": "stdout",
     "output_type": "stream",
     "text": [
      "[1010.0, 1000, 990.0]\n",
      "[1010.0, 1000, 990.0]\n",
      "[1010.0, 1000, 990.0]\n"
     ]
    }
   ],
   "source": [
    "R1_list = [R1hi, R1nom, R1lo]\n",
    "R2_list = [R2hi, R2nom, R2lo]\n",
    "R3_list = [R3hi, R3nom, R3lo]\n",
    "\n",
    "print (R1_list)\n",
    "print (R2_list)\n",
    "print (R3_list)"
   ]
  },
  {
   "cell_type": "code",
   "execution_count": 15,
   "metadata": {},
   "outputs": [
    {
     "data": {
      "text/plain": [
       "list"
      ]
     },
     "execution_count": 15,
     "metadata": {},
     "output_type": "execute_result"
    }
   ],
   "source": [
    "type(R1_list)"
   ]
  },
  {
   "cell_type": "code",
   "execution_count": 16,
   "metadata": {},
   "outputs": [],
   "source": [
    "all_list_resistors = [ R1_list, R2_list, R3_list ]"
   ]
  },
  {
   "cell_type": "code",
   "execution_count": 17,
   "metadata": {},
   "outputs": [
    {
     "data": {
      "text/plain": [
       "[['R1hi', 'R1nom', 'R1lo'],\n",
       " ['R2hi', 'R2nom', 'R2lo'],\n",
       " ['R3hi', 'R3nom', 'R3lo']]"
      ]
     },
     "execution_count": 17,
     "metadata": {},
     "output_type": "execute_result"
    }
   ],
   "source": [
    "all_list"
   ]
  },
  {
   "cell_type": "code",
   "execution_count": 18,
   "metadata": {},
   "outputs": [],
   "source": [
    "resistors = list(itertools.product(*all_list_resistors))"
   ]
  },
  {
   "cell_type": "code",
   "execution_count": 19,
   "metadata": {},
   "outputs": [
    {
     "data": {
      "text/plain": [
       "[(1010.0, 1010.0, 1010.0),\n",
       " (1010.0, 1010.0, 1000),\n",
       " (1010.0, 1010.0, 990.0),\n",
       " (1010.0, 1000, 1010.0),\n",
       " (1010.0, 1000, 1000),\n",
       " (1010.0, 1000, 990.0),\n",
       " (1010.0, 990.0, 1010.0),\n",
       " (1010.0, 990.0, 1000),\n",
       " (1010.0, 990.0, 990.0),\n",
       " (1000, 1010.0, 1010.0),\n",
       " (1000, 1010.0, 1000),\n",
       " (1000, 1010.0, 990.0),\n",
       " (1000, 1000, 1010.0),\n",
       " (1000, 1000, 1000),\n",
       " (1000, 1000, 990.0),\n",
       " (1000, 990.0, 1010.0),\n",
       " (1000, 990.0, 1000),\n",
       " (1000, 990.0, 990.0),\n",
       " (990.0, 1010.0, 1010.0),\n",
       " (990.0, 1010.0, 1000),\n",
       " (990.0, 1010.0, 990.0),\n",
       " (990.0, 1000, 1010.0),\n",
       " (990.0, 1000, 1000),\n",
       " (990.0, 1000, 990.0),\n",
       " (990.0, 990.0, 1010.0),\n",
       " (990.0, 990.0, 1000),\n",
       " (990.0, 990.0, 990.0)]"
      ]
     },
     "execution_count": 19,
     "metadata": {},
     "output_type": "execute_result"
    }
   ],
   "source": [
    "resistors"
   ]
  },
  {
   "cell_type": "code",
   "execution_count": 20,
   "metadata": {},
   "outputs": [
    {
     "data": {
      "text/plain": [
       "1.6721854209899902"
      ]
     },
     "execution_count": 20,
     "metadata": {},
     "output_type": "execute_result"
    }
   ],
   "source": [
    "voltage_divider.voltage_divider(5, resistors[1])"
   ]
  },
  {
   "cell_type": "code",
   "execution_count": 21,
   "metadata": {},
   "outputs": [],
   "source": [
    "end_stop = len(resistors)\n",
    "output_voltage_list = []"
   ]
  },
  {
   "cell_type": "code",
   "execution_count": 22,
   "metadata": {},
   "outputs": [],
   "source": [
    "output_voltage_list.append(voltage_divider.voltage_divider(5, resistors[1]))"
   ]
  },
  {
   "cell_type": "code",
   "execution_count": 23,
   "metadata": {},
   "outputs": [
    {
     "name": "stdout",
     "output_type": "stream",
     "text": [
      "[1.6721854209899902]\n"
     ]
    }
   ],
   "source": [
    "print(output_voltage_list)"
   ]
  },
  {
   "cell_type": "code",
   "execution_count": 24,
   "metadata": {},
   "outputs": [],
   "source": [
    "for i in range(end_stop):\n",
    "    output_voltage_list.append(voltage_divider.voltage_divider(5, resistors[i]))"
   ]
  },
  {
   "cell_type": "code",
   "execution_count": 25,
   "metadata": {},
   "outputs": [
    {
     "name": "stdout",
     "output_type": "stream",
     "text": [
      "[1.6721854209899902, 1.6666667461395264, 1.6721854209899902, 1.6777408123016357, 1.6721854209899902, 1.6777408123016357, 1.683333396911621, 1.6777408123016357, 1.683333396911621, 1.6889631748199463, 1.6556291580200195, 1.6611295938491821, 1.6666667461395264, 1.6611295938491821, 1.6666667461395264, 1.6722407341003418, 1.6666667461395264, 1.6722407341003418, 1.6778523921966553, 1.644518256187439, 1.6500000953674316, 1.6555184125900269, 1.6500000953674316, 1.6555184125900269, 1.661073923110962, 1.6555184125900269, 1.661073923110962, 1.6666667461395264]\n"
     ]
    }
   ],
   "source": [
    "print(output_voltage_list)"
   ]
  },
  {
   "cell_type": "code",
   "execution_count": 26,
   "metadata": {},
   "outputs": [
    {
     "data": {
      "text/plain": [
       "1.6889631748199463"
      ]
     },
     "execution_count": 26,
     "metadata": {},
     "output_type": "execute_result"
    }
   ],
   "source": [
    "max(output_voltage_list)"
   ]
  },
  {
   "cell_type": "code",
   "execution_count": 33,
   "metadata": {},
   "outputs": [
    {
     "name": "stdout",
     "output_type": "stream",
     "text": [
      "8\n"
     ]
    }
   ],
   "source": [
    "max_index = output_voltage_list.index(max(output_voltage_list)) - 1\n",
    "print(max_index)"
   ]
  },
  {
   "cell_type": "code",
   "execution_count": 34,
   "metadata": {},
   "outputs": [
    {
     "data": {
      "text/plain": [
       "('R1hi', 'R2lo', 'R3lo')"
      ]
     },
     "execution_count": 34,
     "metadata": {},
     "output_type": "execute_result"
    }
   ],
   "source": [
    "res[max_index]"
   ]
  },
  {
   "cell_type": "code",
   "execution_count": null,
   "metadata": {},
   "outputs": [],
   "source": []
  }
 ],
 "metadata": {
  "kernelspec": {
   "display_name": "Python 3",
   "language": "python",
   "name": "python3"
  },
  "language_info": {
   "codemirror_mode": {
    "name": "ipython",
    "version": 3
   },
   "file_extension": ".py",
   "mimetype": "text/x-python",
   "name": "python",
   "nbconvert_exporter": "python",
   "pygments_lexer": "ipython3",
   "version": "3.7.4"
  }
 },
 "nbformat": 4,
 "nbformat_minor": 4
}
